{
 "cells": [
  {
   "cell_type": "code",
   "execution_count": 31,
   "metadata": {},
   "outputs": [],
   "source": [
    "from pymilvus import (\n",
    "    connections,\n",
    "    utility,\n",
    "    FieldSchema,\n",
    "    CollectionSchema,\n",
    "    DataType,\n",
    "    Collection,\n",
    "    db,\n",
    "    MilvusClient\n",
    ")\n",
    "import clip\n",
    "import torch\n",
    "import numpy as np\n",
    "from PIL import Image\n",
    "from torch.nn.functional import cosine_similarity"
   ]
  },
  {
   "cell_type": "code",
   "execution_count": 2,
   "metadata": {},
   "outputs": [
    {
     "name": "stdout",
     "output_type": "stream",
     "text": [
      "Is Milvus connected: True\n",
      "Collections: ['images', 'product_collection', 'products']\n"
     ]
    }
   ],
   "source": [
    "host = \"localhost\"\n",
    "port = 19530 # Mapping for 19530 (default Milvus port)\n",
    "\n",
    "# Connect to Milvus\n",
    "client = connections.connect(\"default\", host=host, port=port)\n",
    "\n",
    "# Check if the connection is established\n",
    "print(\"Is Milvus connected:\", connections.has_connection(\"default\"))\n",
    "\n",
    "# Optional: List collections to confirm the connection\n",
    "from pymilvus import utility\n",
    "print(\"Collections:\", utility.list_collections())"
   ]
  },
  {
   "cell_type": "code",
   "execution_count": 3,
   "metadata": {},
   "outputs": [],
   "source": [
    "database = db.create_database(\"Building_Designs\")"
   ]
  },
  {
   "cell_type": "code",
   "execution_count": 4,
   "metadata": {},
   "outputs": [],
   "source": [
    "db.using_database(\"Building_Designs\")"
   ]
  },
  {
   "cell_type": "code",
   "execution_count": 5,
   "metadata": {},
   "outputs": [],
   "source": [
    "fields = [\n",
    "    FieldSchema(name=\"Building_id\", dtype=DataType.INT64, is_primary=True, auto_id=True),\n",
    "    FieldSchema(name=\"Image_Name\", dtype=DataType.VARCHAR, max_length = 1000),\n",
    "    FieldSchema(name=\"building_real_image\", dtype=DataType.FLOAT_VECTOR, dim=512),  \n",
    "    FieldSchema(name=\"generated_building_image\", dtype=DataType.FLOAT_VECTOR, dim=512),\n",
    "    FieldSchema(name=\"building_sketch\", dtype=DataType.FLOAT_VECTOR, dim=512)\n",
    "]"
   ]
  },
  {
   "cell_type": "code",
   "execution_count": 6,
   "metadata": {},
   "outputs": [],
   "source": [
    "design_schema = CollectionSchema(fields, description=\"Products collection\")\n",
    "buildings_collection = Collection(name = 'designs', schema=design_schema)"
   ]
  },
  {
   "cell_type": "code",
   "execution_count": 7,
   "metadata": {},
   "outputs": [
    {
     "name": "stdout",
     "output_type": "stream",
     "text": [
      "['designs']\n"
     ]
    }
   ],
   "source": [
    "collections = utility.list_collections()\n",
    "print(collections)"
   ]
  },
  {
   "cell_type": "code",
   "execution_count": 8,
   "metadata": {},
   "outputs": [],
   "source": [
    "index_params = {\n",
    "    \"metric_type\": \"COSINE\",\n",
    "    \"index_type\": \"IVF_FLAT\",\n",
    "    \"params\": {\"nlist\": 256}\n",
    "}"
   ]
  },
  {
   "cell_type": "code",
   "execution_count": 16,
   "metadata": {},
   "outputs": [],
   "source": [
    "device = 'cuda' if torch.cuda.is_available() else 'cpu'\n",
    "\n",
    "clip_model, preprocess = clip.load(\"ViT-B/16\", device=device)"
   ]
  },
  {
   "cell_type": "code",
   "execution_count": 45,
   "metadata": {},
   "outputs": [],
   "source": [
    "def generate_image_embedding(preprocess, image):\n",
    "    # Check if the input is a path (string) or a NumPy array\n",
    "    if isinstance(image, str):\n",
    "        # Load the image from the file path\n",
    "        image_pil = Image.open(image)\n",
    "    elif isinstance(image, np.ndarray):\n",
    "        # Convert the NumPy array to a PIL Image\n",
    "        image_pil = Image.fromarray(image)\n",
    "    else:\n",
    "        raise ValueError(\"The input must be a file path or a NumPy array\")\n",
    "\n",
    "    # Preprocess the image using the provided preprocessing function\n",
    "    image_tensor = preprocess(image_pil).unsqueeze(0).to(device)\n",
    "\n",
    "    with torch.no_grad():\n",
    "        image_embedding = clip_model.encode_image(image_tensor)\n",
    "        image_embedding /= image_embedding.norm(dim=-1, keepdim=True)\n",
    "\n",
    "    return image_embedding.cpu().flatten()"
   ]
  },
  {
   "cell_type": "code",
   "execution_count": 67,
   "metadata": {},
   "outputs": [],
   "source": [
    "embedding = generate_image_embedding(preprocess, r'D:\\VS Code Folders\\Pix2Pix_Buildings\\sketches_images\\building01_front_day_sketch.jpg')\n",
    "embedding2 = generate_image_embedding(preprocess, r'D:\\VS Code Folders\\Pix2Pix_Buildings\\sketches_images\\building04_right_cloud_sketch.jpg')\n"
   ]
  },
  {
   "cell_type": "code",
   "execution_count": 68,
   "metadata": {},
   "outputs": [
    {
     "name": "stdout",
     "output_type": "stream",
     "text": [
      "Cosine Similarity: 0.8912643790245056\n"
     ]
    }
   ],
   "source": [
    "import torch.nn.functional as F\n",
    "\n",
    "# Calculate cosine similarity using PyTorch\n",
    "similarity = F.cosine_similarity(embedding.unsqueeze(0), embedding2.unsqueeze(0))\n",
    "print(\"Cosine Similarity:\", similarity.item())\n"
   ]
  },
  {
   "cell_type": "code",
   "execution_count": null,
   "metadata": {},
   "outputs": [],
   "source": []
  }
 ],
 "metadata": {
  "kernelspec": {
   "display_name": "Python 3",
   "language": "python",
   "name": "python3"
  },
  "language_info": {
   "codemirror_mode": {
    "name": "ipython",
    "version": 3
   },
   "file_extension": ".py",
   "mimetype": "text/x-python",
   "name": "python",
   "nbconvert_exporter": "python",
   "pygments_lexer": "ipython3",
   "version": "3.11.5"
  }
 },
 "nbformat": 4,
 "nbformat_minor": 2
}
