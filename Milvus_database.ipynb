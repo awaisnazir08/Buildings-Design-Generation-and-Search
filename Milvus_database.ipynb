{
 "cells": [
  {
   "cell_type": "code",
   "execution_count": 74,
   "metadata": {},
   "outputs": [],
   "source": [
    "from pymilvus import (\n",
    "    connections,\n",
    "    utility,\n",
    "    FieldSchema,\n",
    "    CollectionSchema,\n",
    "    DataType,\n",
    "    Collection,\n",
    "    db,\n",
    "    MilvusClient\n",
    ")\n",
    "import clip\n",
    "import torch\n",
    "import numpy as np\n",
    "from PIL import Image\n",
    "from torch.nn.functional import cosine_similarity\n",
    "import os"
   ]
  },
  {
   "cell_type": "code",
   "execution_count": 2,
   "metadata": {},
   "outputs": [
    {
     "name": "stdout",
     "output_type": "stream",
     "text": [
      "Is Milvus connected: True\n",
      "Collections: ['product_collection', 'products', 'images']\n"
     ]
    }
   ],
   "source": [
    "host = \"localhost\"\n",
    "port = 19530 # Mapping for 19530 (default Milvus port)\n",
    "\n",
    "# Connect to Milvus\n",
    "client = connections.connect(\"default\", host=host, port=port)\n",
    "\n",
    "# Check if the connection is established\n",
    "print(\"Is Milvus connected:\", connections.has_connection(\"default\"))\n",
    "\n",
    "# Optional: List collections to confirm the connection\n",
    "from pymilvus import utility\n",
    "print(\"Collections:\", utility.list_collections())"
   ]
  },
  {
   "cell_type": "code",
   "execution_count": 4,
   "metadata": {},
   "outputs": [],
   "source": [
    "# database = db.create_database(\"Building_Designs\")"
   ]
  },
  {
   "cell_type": "code",
   "execution_count": 5,
   "metadata": {},
   "outputs": [],
   "source": [
    "db.using_database(\"Building_Designs\")"
   ]
  },
  {
   "cell_type": "code",
   "execution_count": 86,
   "metadata": {},
   "outputs": [
    {
     "name": "stdout",
     "output_type": "stream",
     "text": [
      "['designs']\n"
     ]
    }
   ],
   "source": [
    "collections = utility.list_collections()\n",
    "print(collections)"
   ]
  },
  {
   "cell_type": "code",
   "execution_count": 109,
   "metadata": {},
   "outputs": [],
   "source": [
    "fields = [\n",
    "    FieldSchema(name=\"Building_id\", dtype=DataType.INT64, is_primary=True, auto_id=True),\n",
    "    FieldSchema(name=\"Image_Name\", dtype=DataType.VARCHAR, max_length = 1000),\n",
    "    FieldSchema(name=\"building_generated_image_embedding\", dtype=DataType.FLOAT_VECTOR, dim=768),  \n",
    "    # FieldSchema(name=\"generated_building_image\", dtype=DataType.FLOAT_VECTOR, dim=768),\n",
    "    FieldSchema(name=\"building_sketch_embedding\", dtype=DataType.FLOAT_VECTOR, dim=768)\n",
    "]"
   ]
  },
  {
   "cell_type": "code",
   "execution_count": 110,
   "metadata": {},
   "outputs": [],
   "source": [
    "# buildings_collection = Collection('designs')\n",
    "# buildings_collection.release()\n",
    "# buildings_collection.drop()"
   ]
  },
  {
   "cell_type": "code",
   "execution_count": 111,
   "metadata": {},
   "outputs": [],
   "source": [
    "design_schema = CollectionSchema(fields, description=\"Architectural Designs collection\")\n",
    "buildings_collection = Collection(name = 'designs', schema=design_schema)"
   ]
  },
  {
   "cell_type": "code",
   "execution_count": 112,
   "metadata": {},
   "outputs": [],
   "source": [
    "index_params = {\n",
    "    \"metric_type\": \"COSINE\",\n",
    "    \"index_type\": \"IVF_FLAT\",\n",
    "    \"params\": {\"nlist\": 256}\n",
    "}"
   ]
  },
  {
   "cell_type": "code",
   "execution_count": 113,
   "metadata": {},
   "outputs": [],
   "source": [
    "buildings_collection.create_index(field_name=\"building_sketch_embedding\", index_params = index_params)\n",
    "buildings_collection.create_index(field_name=\"building_generated_image_embedding\", index_params = index_params)\n",
    "buildings_collection.load()"
   ]
  },
  {
   "cell_type": "code",
   "execution_count": 102,
   "metadata": {},
   "outputs": [],
   "source": [
    "device = 'cuda' if torch.cuda.is_available() else 'cpu'\n",
    "clip_model, preprocess = clip.load(\"ViT-L/14@336px\", device=device)"
   ]
  },
  {
   "cell_type": "code",
   "execution_count": 103,
   "metadata": {},
   "outputs": [],
   "source": [
    "def generate_image_embedding(image):\n",
    "    # Check if the input is a path (string) or a NumPy array\n",
    "    if isinstance(image, str):\n",
    "        # Load the image from the file path\n",
    "        image_pil = Image.open(image)\n",
    "    elif isinstance(image, np.ndarray):\n",
    "        # Convert the NumPy array to a PIL Image\n",
    "        image_pil = Image.fromarray(image)\n",
    "    else:\n",
    "        raise ValueError(\"The input must be a file path or a NumPy array\")\n",
    "\n",
    "    # Preprocess the image using the provided preprocessing function\n",
    "    image_tensor = preprocess(image_pil).unsqueeze(0).to(device)\n",
    "\n",
    "    with torch.no_grad():\n",
    "        image_embedding = clip_model.encode_image(image_tensor)\n",
    "        image_embedding /= image_embedding.norm(dim=-1, keepdim=True)\n",
    "    return image_embedding.cpu().numpy()[0]\n"
   ]
  },
  {
   "cell_type": "code",
   "execution_count": 104,
   "metadata": {},
   "outputs": [],
   "source": [
    "SKETCHES_IMAGES_DIR = 'sketches_images'\n",
    "GENERATED_IMAGES_DIR = 'generated_images_512'"
   ]
  },
  {
   "cell_type": "code",
   "execution_count": 105,
   "metadata": {},
   "outputs": [],
   "source": [
    "sketches_images = os.listdir(SKETCHES_IMAGES_DIR)"
   ]
  },
  {
   "cell_type": "code",
   "execution_count": 114,
   "metadata": {},
   "outputs": [],
   "source": [
    "image_names = []\n",
    "generated_images_embeddings = []\n",
    "sketch_embeddings = []\n",
    "\n",
    "# Batch size\n",
    "batch_size = 100\n",
    "\n",
    "# Iterate through your images\n",
    "for i, image in enumerate(sketches_images):\n",
    "    # Extract and prepare data\n",
    "    sketch_image_path = os.path.join(SKETCHES_IMAGES_DIR, image)\n",
    "    image_name = image[:-11]\n",
    "    generated_image_name = image_name + '_generated.jpg'\n",
    "    generated_image_path = os.path.join(GENERATED_IMAGES_DIR, generated_image_name)\n",
    "    \n",
    "    sketch_image_embedding = generate_image_embedding(sketch_image_path)\n",
    "    generated_image_embedding = generate_image_embedding(generated_image_path)\n",
    "    \n",
    "    # Append data to the lists\n",
    "    image_names.append(image_name)\n",
    "    generated_images_embeddings.append(generated_image_embedding)\n",
    "    sketch_embeddings.append(sketch_image_embedding)\n",
    "    \n",
    "    # When batch size is reached, insert into Milvus\n",
    "    if (i + 1) % batch_size == 0 or (i + 1) == len(sketches_images):\n",
    "        entities = [\n",
    "            image_names,\n",
    "            generated_images_embeddings,\n",
    "            sketch_embeddings\n",
    "        ]\n",
    "        \n",
    "        # Insert into Milvus\n",
    "        buildings_collection.insert(entities)\n",
    "        \n",
    "        # Clear the lists after batch insert\n",
    "        image_names.clear()\n",
    "        generated_images_embeddings.clear()\n",
    "        sketch_embeddings.clear()\n",
    "\n",
    "# Flush to ensure all data is written\n",
    "buildings_collection.flush()"
   ]
  }
 ],
 "metadata": {
  "kernelspec": {
   "display_name": "Python 3",
   "language": "python",
   "name": "python3"
  },
  "language_info": {
   "codemirror_mode": {
    "name": "ipython",
    "version": 3
   },
   "file_extension": ".py",
   "mimetype": "text/x-python",
   "name": "python",
   "nbconvert_exporter": "python",
   "pygments_lexer": "ipython3",
   "version": "3.11.5"
  }
 },
 "nbformat": 4,
 "nbformat_minor": 2
}
