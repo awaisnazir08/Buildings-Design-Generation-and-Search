{
 "cells": [
  {
   "cell_type": "code",
   "execution_count": 1,
   "metadata": {},
   "outputs": [],
   "source": [
    "from pymilvus import (\n",
    "    connections,\n",
    "    utility,\n",
    "    FieldSchema,\n",
    "    CollectionSchema,\n",
    "    DataType,\n",
    "    Collection,\n",
    "    db,\n",
    "    MilvusClient\n",
    ")\n"
   ]
  },
  {
   "cell_type": "code",
   "execution_count": 2,
   "metadata": {},
   "outputs": [
    {
     "name": "stdout",
     "output_type": "stream",
     "text": [
      "Is Milvus connected: True\n",
      "Collections: ['images', 'product_collection', 'products']\n"
     ]
    }
   ],
   "source": [
    "host = \"localhost\"\n",
    "port = 19530 # Mapping for 19530 (default Milvus port)\n",
    "\n",
    "# Connect to Milvus\n",
    "client = connections.connect(\"default\", host=host, port=port)\n",
    "\n",
    "# Check if the connection is established\n",
    "print(\"Is Milvus connected:\", connections.has_connection(\"default\"))\n",
    "\n",
    "# Optional: List collections to confirm the connection\n",
    "from pymilvus import utility\n",
    "print(\"Collections:\", utility.list_collections())"
   ]
  },
  {
   "cell_type": "code",
   "execution_count": 3,
   "metadata": {},
   "outputs": [],
   "source": [
    "database = db.create_database(\"Building_Designs\")"
   ]
  },
  {
   "cell_type": "code",
   "execution_count": 4,
   "metadata": {},
   "outputs": [],
   "source": [
    "db.using_database(\"Building_Designs\")"
   ]
  },
  {
   "cell_type": "code",
   "execution_count": null,
   "metadata": {},
   "outputs": [],
   "source": [
    "fields = [\n",
    "    FieldSchema(name=\"Building_id\", dtype=DataType.INT64, is_primary=True, auto_id=True),\n",
    "    FieldSchema(name=\"title_vector\", dtype=DataType.FLOAT_VECTOR, dim=512),  \n",
    "    FieldSchema(name=\"title\", dtype=DataType.VARCHAR, max_length = 5000),\n",
    "    FieldSchema(name=\"average_rating\", dtype=DataType.FLOAT),\n",
    "    FieldSchema(name=\"features\", dtype=DataType.ARRAY, max_capacity = 1000, element_type = DataType.VARCHAR, max_length = 10000),\n",
    "    FieldSchema(name=\"description\", dtype=DataType.ARRAY, max_capacity = 500, element_type = DataType.VARCHAR, max_length = 50000),\n",
    "    FieldSchema(name=\"categories\", dtype=DataType.ARRAY, max_capacity = 500, element_type = DataType.VARCHAR, max_length = 500),\n",
    "    FieldSchema(name=\"price\", dtype=DataType.FLOAT),\n",
    "    FieldSchema(name=\"store\", dtype=DataType.VARCHAR, max_length = 500),\n",
    "    FieldSchema(name=\"main_category\", dtype=DataType.VARCHAR, max_length = 500)\n",
    "]"
   ]
  }
 ],
 "metadata": {
  "kernelspec": {
   "display_name": "Python 3",
   "language": "python",
   "name": "python3"
  },
  "language_info": {
   "codemirror_mode": {
    "name": "ipython",
    "version": 3
   },
   "file_extension": ".py",
   "mimetype": "text/x-python",
   "name": "python",
   "nbconvert_exporter": "python",
   "pygments_lexer": "ipython3",
   "version": "3.11.5"
  }
 },
 "nbformat": 4,
 "nbformat_minor": 2
}
