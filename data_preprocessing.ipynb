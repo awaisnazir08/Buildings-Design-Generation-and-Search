{
 "cells": [
  {
   "cell_type": "code",
   "execution_count": 25,
   "metadata": {},
   "outputs": [],
   "source": [
    "import os\n",
    "import shutil\n",
    "from sklearn.model_selection import train_test_split"
   ]
  },
  {
   "cell_type": "code",
   "execution_count": 13,
   "metadata": {},
   "outputs": [],
   "source": [
    "import os\n",
    "from sklearn.model_selection import train_test_split\n",
    "\n",
    "real_images_dir = 'vyronas-database/Vyronasdbmin'\n",
    "sketches_dir = '/content/drive/MyDrive/Pix2Pix_Buildings/sketches_images'\n",
    "\n",
    "# List of all real images\n",
    "real_images_list = os.listdir(real_images_dir)\n",
    "\n",
    "# Create pairs of (real_image, corresponding_sketch)\n",
    "paired_images = []\n",
    "for image in real_images_list:\n",
    "    sketch = image[:-4] + '_sketch.jpg'  # Adjust if there's a different naming convention\n",
    "    if sketch in os.listdir(sketches_dir):\n",
    "        paired_images.append((image, sketch))\n",
    "\n",
    "# Split the pairs into training and validation sets\n",
    "train_pairs, val_pairs = train_test_split(paired_images, test_size=0.06, random_state=10)\n",
    "\n",
    "# Separate the pairs into lists of real images and sketches for each set\n",
    "train_real_images = [pair[0] for pair in train_pairs]\n",
    "train_sketch_images = [pair[1] for pair in train_pairs]\n",
    "\n",
    "val_real_images = [pair[0] for pair in val_pairs]\n",
    "val_sketch_images = [pair[1] for pair in val_pairs]\n"
   ]
  },
  {
   "cell_type": "code",
   "execution_count": 14,
   "metadata": {},
   "outputs": [
    {
     "name": "stdout",
     "output_type": "stream",
     "text": [
      "846\n"
     ]
    }
   ],
   "source": [
    "print(len(train_sketch_images))"
   ]
  },
  {
   "cell_type": "code",
   "execution_count": 15,
   "metadata": {},
   "outputs": [
    {
     "name": "stdout",
     "output_type": "stream",
     "text": [
      "846\n"
     ]
    }
   ],
   "source": [
    "print(len(train_real_images))"
   ]
  },
  {
   "cell_type": "code",
   "execution_count": 16,
   "metadata": {},
   "outputs": [
    {
     "name": "stdout",
     "output_type": "stream",
     "text": [
      "54\n"
     ]
    }
   ],
   "source": [
    "print(len(val_sketch_images))"
   ]
  },
  {
   "cell_type": "code",
   "execution_count": 17,
   "metadata": {},
   "outputs": [
    {
     "name": "stdout",
     "output_type": "stream",
     "text": [
      "54\n"
     ]
    }
   ],
   "source": [
    "print(len(val_real_images))"
   ]
  },
  {
   "cell_type": "code",
   "execution_count": 22,
   "metadata": {},
   "outputs": [],
   "source": [
    "train_real_images_dir = 'buildings_data/train/real'\n",
    "train_sketches_dir = 'buildings_data/train/sketches'\n",
    "val_real_images_dir = 'buildings_data/val/real'\n",
    "val_sketches_dir = 'buildings_data/val/sketches'"
   ]
  },
  {
   "cell_type": "code",
   "execution_count": 23,
   "metadata": {},
   "outputs": [],
   "source": [
    "os.makedirs(train_real_images_dir, exist_ok=True)\n",
    "os.makedirs(train_sketches_dir, exist_ok=True)\n",
    "\n",
    "os.makedirs(val_real_images_dir, exist_ok=True)\n",
    "os.makedirs(val_sketches_dir, exist_ok=True)"
   ]
  },
  {
   "cell_type": "code",
   "execution_count": 26,
   "metadata": {},
   "outputs": [],
   "source": [
    "for image in train_real_images:\n",
    "    shutil.copy(f'{real_images_dir}/{image}', f'{train_real_images_dir}/{image}')\n",
    "\n",
    "for image in train_sketch_images:\n",
    "    shutil.copy(f'{sketches_dir}/{image}', f'{train_sketches_dir}/{image}')\n",
    "\n",
    "for image in val_real_images:\n",
    "    shutil.copy(f'{real_images_dir}/{image}', f'{val_real_images_dir}/{image}')\n",
    "\n",
    "for image in val_sketch_images:\n",
    "    shutil.copy(f'{sketches_dir}/{image}', f'{val_sketches_dir}/{image}')"
   ]
  }
 ],
 "metadata": {
  "kernelspec": {
   "display_name": "clip-env",
   "language": "python",
   "name": "python3"
  },
  "language_info": {
   "codemirror_mode": {
    "name": "ipython",
    "version": 3
   },
   "file_extension": ".py",
   "mimetype": "text/x-python",
   "name": "python",
   "nbconvert_exporter": "python",
   "pygments_lexer": "ipython3",
   "version": "3.11.5"
  }
 },
 "nbformat": 4,
 "nbformat_minor": 2
}
