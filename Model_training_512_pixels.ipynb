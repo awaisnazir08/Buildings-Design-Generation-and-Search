{
  "cells": [
    {
      "cell_type": "code",
      "execution_count": 1,
      "metadata": {
        "colab": {
          "base_uri": "https://localhost:8080/"
        },
        "id": "ORmSfsg91Gt6",
        "outputId": "76d873a3-7843-4840-93ec-1dff68ac906c"
      },
      "outputs": [
        {
          "output_type": "stream",
          "name": "stdout",
          "text": [
            "Drive already mounted at /content/drive; to attempt to forcibly remount, call drive.mount(\"/content/drive\", force_remount=True).\n"
          ]
        }
      ],
      "source": [
        "from google.colab import drive\n",
        "drive.mount('/content/drive')"
      ]
    },
    {
      "cell_type": "code",
      "execution_count": 1,
      "metadata": {
        "id": "WwVTurSleqbN"
      },
      "outputs": [],
      "source": [
        "import os\n",
        "import shutil\n",
        "from sklearn.model_selection import train_test_split"
      ]
    },
    {
      "cell_type": "code",
      "execution_count": 3,
      "metadata": {
        "colab": {
          "base_uri": "https://localhost:8080/"
        },
        "id": "U3JW0v7d-uJY",
        "outputId": "8a0c62f7-25d1-4012-b581-409f500ed818"
      },
      "outputs": [
        {
          "output_type": "stream",
          "name": "stdout",
          "text": [
            "Collecting opendatasets\n",
            "  Downloading opendatasets-0.1.22-py3-none-any.whl.metadata (9.2 kB)\n",
            "Requirement already satisfied: tqdm in /usr/local/lib/python3.10/dist-packages (from opendatasets) (4.66.5)\n",
            "Requirement already satisfied: kaggle in /usr/local/lib/python3.10/dist-packages (from opendatasets) (1.6.17)\n",
            "Requirement already satisfied: click in /usr/local/lib/python3.10/dist-packages (from opendatasets) (8.1.7)\n",
            "Requirement already satisfied: six>=1.10 in /usr/local/lib/python3.10/dist-packages (from kaggle->opendatasets) (1.16.0)\n",
            "Requirement already satisfied: certifi>=2023.7.22 in /usr/local/lib/python3.10/dist-packages (from kaggle->opendatasets) (2024.7.4)\n",
            "Requirement already satisfied: python-dateutil in /usr/local/lib/python3.10/dist-packages (from kaggle->opendatasets) (2.8.2)\n",
            "Requirement already satisfied: requests in /usr/local/lib/python3.10/dist-packages (from kaggle->opendatasets) (2.32.3)\n",
            "Requirement already satisfied: python-slugify in /usr/local/lib/python3.10/dist-packages (from kaggle->opendatasets) (8.0.4)\n",
            "Requirement already satisfied: urllib3 in /usr/local/lib/python3.10/dist-packages (from kaggle->opendatasets) (2.0.7)\n",
            "Requirement already satisfied: bleach in /usr/local/lib/python3.10/dist-packages (from kaggle->opendatasets) (6.1.0)\n",
            "Requirement already satisfied: webencodings in /usr/local/lib/python3.10/dist-packages (from bleach->kaggle->opendatasets) (0.5.1)\n",
            "Requirement already satisfied: text-unidecode>=1.3 in /usr/local/lib/python3.10/dist-packages (from python-slugify->kaggle->opendatasets) (1.3)\n",
            "Requirement already satisfied: charset-normalizer<4,>=2 in /usr/local/lib/python3.10/dist-packages (from requests->kaggle->opendatasets) (3.3.2)\n",
            "Requirement already satisfied: idna<4,>=2.5 in /usr/local/lib/python3.10/dist-packages (from requests->kaggle->opendatasets) (3.7)\n",
            "Downloading opendatasets-0.1.22-py3-none-any.whl (15 kB)\n",
            "Installing collected packages: opendatasets\n",
            "Successfully installed opendatasets-0.1.22\n"
          ]
        }
      ],
      "source": [
        "!pip install opendatasets"
      ]
    },
    {
      "cell_type": "code",
      "execution_count": 4,
      "metadata": {
        "colab": {
          "base_uri": "https://localhost:8080/"
        },
        "id": "1TR8149heiw8",
        "outputId": "dd4badde-3539-4524-df32-3343399af1cb"
      },
      "outputs": [
        {
          "output_type": "stream",
          "name": "stdout",
          "text": [
            "Dataset URL: https://www.kaggle.com/datasets/sniafas/vyronas-database\n",
            "Downloading vyronas-database.zip to ./vyronas-database\n"
          ]
        },
        {
          "output_type": "stream",
          "name": "stderr",
          "text": [
            "100%|██████████| 154M/154M [00:02<00:00, 64.2MB/s]\n"
          ]
        },
        {
          "output_type": "stream",
          "name": "stdout",
          "text": [
            "\n"
          ]
        }
      ],
      "source": [
        "import opendatasets as od\n",
        "od.download(\"https://www.kaggle.com/datasets/sniafas/vyronas-database\")"
      ]
    },
    {
      "cell_type": "code",
      "execution_count": 2,
      "metadata": {
        "id": "YM9S2y1ues11"
      },
      "outputs": [],
      "source": [
        "import os\n",
        "from sklearn.model_selection import train_test_split\n",
        "\n",
        "real_images_dir = 'vyronas-database/Vyronasdbmin'\n",
        "sketches_dir = '/content/drive/MyDrive/Pix2Pix_Buildings/sketches_images'\n",
        "\n",
        "# List of all real images\n",
        "real_images_list = os.listdir(real_images_dir)\n",
        "\n",
        "# Create pairs of (real_image, corresponding_sketch)\n",
        "paired_images = []\n",
        "for image in real_images_list:\n",
        "    sketch = image[:-4] + '_sketch.jpg'  # Adjust if there's a different naming convention\n",
        "    if sketch in os.listdir(sketches_dir):\n",
        "        paired_images.append((image, sketch))\n",
        "\n",
        "# Split the pairs into training and validation sets\n",
        "train_pairs, val_pairs = train_test_split(paired_images, test_size=0.06, random_state=10)\n",
        "\n",
        "# Separate the pairs into lists of real images and sketches for each set\n",
        "train_real_images = [pair[0] for pair in train_pairs]\n",
        "train_sketch_images = [pair[1] for pair in train_pairs]\n",
        "\n",
        "val_real_images = [pair[0] for pair in val_pairs]\n",
        "val_sketch_images = [pair[1] for pair in val_pairs]\n"
      ]
    },
    {
      "cell_type": "code",
      "execution_count": 6,
      "metadata": {
        "id": "f7FWKPxteyl7"
      },
      "outputs": [],
      "source": [
        "train_real_images_dir = 'train/real'\n",
        "train_sketches_dir = 'train/sketches'\n",
        "val_real_images_dir = 'val/real'\n",
        "val_sketches_dir = 'val/sketches'"
      ]
    },
    {
      "cell_type": "code",
      "execution_count": 7,
      "metadata": {
        "id": "Gnc9WHUDezei"
      },
      "outputs": [],
      "source": [
        "os.makedirs(train_real_images_dir, exist_ok=True)\n",
        "os.makedirs(train_sketches_dir, exist_ok=True)\n",
        "\n",
        "os.makedirs(val_real_images_dir, exist_ok=True)\n",
        "os.makedirs(val_sketches_dir, exist_ok=True)"
      ]
    },
    {
      "cell_type": "code",
      "execution_count": 8,
      "metadata": {
        "id": "C4pT1xtAe2Ab"
      },
      "outputs": [],
      "source": [
        "for image in train_real_images:\n",
        "    shutil.copy(f'{real_images_dir}/{image}', f'{train_real_images_dir}/{image}')\n",
        "\n",
        "for image in train_sketch_images:\n",
        "    shutil.copy(f'{sketches_dir}/{image}', f'{train_sketches_dir}/{image}')\n",
        "\n",
        "for image in val_real_images:\n",
        "    shutil.copy(f'{real_images_dir}/{image}', f'{val_real_images_dir}/{image}')\n",
        "\n",
        "for image in val_sketch_images:\n",
        "    shutil.copy(f'{sketches_dir}/{image}', f'{val_sketches_dir}/{image}')"
      ]
    },
    {
      "cell_type": "code",
      "execution_count": null,
      "metadata": {
        "id": "00PXLgOxj5wU"
      },
      "outputs": [],
      "source": [
        "!rm -f /content/val/real/*"
      ]
    },
    {
      "cell_type": "code",
      "execution_count": 4,
      "metadata": {
        "id": "wxBX7hvG2_oG"
      },
      "outputs": [],
      "source": [
        "import torch\n",
        "import torch.nn as nn\n",
        "import torch.optim as optim\n",
        "import config\n",
        "from buildings_dataset import MapDataset\n",
        "from utils import save_checkpoint, load_checkpoint, save_some_examples\n",
        "from generator import Generator\n",
        "from discriminator import Discriminator\n",
        "from torch.utils.data import DataLoader\n",
        "from tqdm import tqdm\n",
        "from torchvision.utils import save_image\n",
        "\n",
        "def train_fn(disc, gen, loader, opt_disc, opt_gen, l1, bce, g_scaler, d_scaler):\n",
        "    loop = tqdm(loader, leave=True)\n",
        "    for idx, (x, y) in enumerate(loop):\n",
        "        x, y = x.to(config.DEVICE), y.to(config.DEVICE)\n",
        "\n",
        "        # Train the Discriminator\n",
        "        with torch.cuda.amp.autocast():\n",
        "            y_fake = gen(x)\n",
        "            D_real = disc(x, y)\n",
        "            D_fake = disc(x, y_fake.detach())\n",
        "            D_real_loss = bce(D_real, torch.ones_like(D_real))\n",
        "            D_fake_loss = bce(D_fake, torch.zeros_like(D_fake))\n",
        "            D_loss = (D_real_loss + D_fake_loss) / 2  # to make the discriminator train slower relative to the generator\n",
        "\n",
        "        opt_disc.zero_grad()\n",
        "        d_scaler.scale(D_loss).backward()\n",
        "        d_scaler.step(opt_disc)\n",
        "        d_scaler.update()\n",
        "\n",
        "        # Train the Generator\n",
        "        with torch.cuda.amp.autocast():\n",
        "            D_fake = disc(x, y_fake)\n",
        "            G_fake_loss = bce(D_fake, torch.ones_like(D_fake))\n",
        "            L1 = l1(y_fake, y) * config.L1_LAMBDA\n",
        "            G_loss = G_fake_loss + L1\n",
        "\n",
        "        opt_gen.zero_grad()\n",
        "        g_scaler.scale(G_loss).backward()\n",
        "        g_scaler.step(opt_gen)\n",
        "        g_scaler.update()\n",
        "\n",
        "        # Update the tqdm loop description to display the losses\n",
        "        loop.set_description(f\"Epoch [{epoch}/{config.NUM_EPOCHS}]\")\n",
        "        loop.set_postfix(D_loss=D_loss.item(), G_loss=G_loss.item())\n",
        "    return D_loss, G_loss\n"
      ]
    },
    {
      "cell_type": "code",
      "execution_count": 5,
      "metadata": {
        "colab": {
          "base_uri": "https://localhost:8080/"
        },
        "id": "bbEKhVrn8hg3",
        "outputId": "1129010c-4a49-4e7c-bd08-d785aef3660e"
      },
      "outputs": [
        {
          "output_type": "stream",
          "name": "stderr",
          "text": [
            "Epoch [0/351]: 100%|██████████| 22/22 [00:24<00:00,  1.11s/it, D_loss=0.716, G_loss=32.3]\n"
          ]
        },
        {
          "output_type": "stream",
          "name": "stdout",
          "text": [
            "=> Saving checkpoint\n",
            "=> Saving checkpoint\n"
          ]
        },
        {
          "output_type": "stream",
          "name": "stderr",
          "text": [
            "Epoch [1/351]: 100%|██████████| 22/22 [00:24<00:00,  1.13s/it, D_loss=0.693, G_loss=31.3]\n",
            "Epoch [2/351]: 100%|██████████| 22/22 [00:25<00:00,  1.16s/it, D_loss=0.621, G_loss=29.4]\n",
            "Epoch [3/351]: 100%|██████████| 22/22 [00:24<00:00,  1.11s/it, D_loss=0.555, G_loss=27.4]\n",
            "Epoch [4/351]: 100%|██████████| 22/22 [00:25<00:00,  1.14s/it, D_loss=0.615, G_loss=26.7]\n",
            "Epoch [5/351]: 100%|██████████| 22/22 [00:24<00:00,  1.10s/it, D_loss=0.53, G_loss=28.9]\n"
          ]
        },
        {
          "output_type": "stream",
          "name": "stdout",
          "text": [
            "=> Saving checkpoint\n",
            "=> Saving checkpoint\n"
          ]
        },
        {
          "output_type": "stream",
          "name": "stderr",
          "text": [
            "Epoch [6/351]: 100%|██████████| 22/22 [00:25<00:00,  1.16s/it, D_loss=0.466, G_loss=28.3]\n",
            "Epoch [7/351]: 100%|██████████| 22/22 [00:24<00:00,  1.14s/it, D_loss=0.496, G_loss=28.9]\n",
            "Epoch [8/351]: 100%|██████████| 22/22 [00:24<00:00,  1.11s/it, D_loss=0.551, G_loss=21]\n",
            "Epoch [9/351]: 100%|██████████| 22/22 [00:23<00:00,  1.09s/it, D_loss=0.488, G_loss=25.6]\n",
            "Epoch [10/351]: 100%|██████████| 22/22 [00:24<00:00,  1.13s/it, D_loss=0.606, G_loss=22.5]\n"
          ]
        },
        {
          "output_type": "stream",
          "name": "stdout",
          "text": [
            "=> Saving checkpoint\n",
            "=> Saving checkpoint\n"
          ]
        },
        {
          "output_type": "stream",
          "name": "stderr",
          "text": [
            "Epoch [11/351]: 100%|██████████| 22/22 [00:26<00:00,  1.18s/it, D_loss=0.673, G_loss=22.9]\n",
            "Epoch [12/351]: 100%|██████████| 22/22 [00:24<00:00,  1.12s/it, D_loss=0.629, G_loss=27.3]\n",
            "Epoch [13/351]: 100%|██████████| 22/22 [00:24<00:00,  1.12s/it, D_loss=0.595, G_loss=25.1]\n",
            "Epoch [14/351]: 100%|██████████| 22/22 [00:24<00:00,  1.11s/it, D_loss=0.615, G_loss=21.1]\n",
            "Epoch [15/351]: 100%|██████████| 22/22 [00:24<00:00,  1.12s/it, D_loss=0.639, G_loss=20.1]\n"
          ]
        },
        {
          "output_type": "stream",
          "name": "stdout",
          "text": [
            "=> Saving checkpoint\n",
            "=> Saving checkpoint\n"
          ]
        },
        {
          "output_type": "stream",
          "name": "stderr",
          "text": [
            "Epoch [16/351]: 100%|██████████| 22/22 [00:25<00:00,  1.18s/it, D_loss=0.643, G_loss=24.5]\n",
            "Epoch [17/351]: 100%|██████████| 22/22 [00:24<00:00,  1.12s/it, D_loss=0.668, G_loss=18.6]\n",
            "Epoch [18/351]: 100%|██████████| 22/22 [00:24<00:00,  1.12s/it, D_loss=0.674, G_loss=17.9]\n",
            "Epoch [19/351]: 100%|██████████| 22/22 [00:24<00:00,  1.10s/it, D_loss=0.648, G_loss=18]\n",
            "Epoch [20/351]: 100%|██████████| 22/22 [00:25<00:00,  1.15s/it, D_loss=0.704, G_loss=15.3]\n"
          ]
        },
        {
          "output_type": "stream",
          "name": "stdout",
          "text": [
            "=> Saving checkpoint\n",
            "=> Saving checkpoint\n"
          ]
        },
        {
          "output_type": "stream",
          "name": "stderr",
          "text": [
            "Epoch [21/351]: 100%|██████████| 22/22 [00:26<00:00,  1.18s/it, D_loss=0.647, G_loss=20.2]\n",
            "Epoch [22/351]: 100%|██████████| 22/22 [00:24<00:00,  1.11s/it, D_loss=0.617, G_loss=18]\n",
            "Epoch [23/351]: 100%|██████████| 22/22 [00:25<00:00,  1.14s/it, D_loss=0.628, G_loss=16.4]\n",
            "Epoch [24/351]: 100%|██████████| 22/22 [00:24<00:00,  1.10s/it, D_loss=0.616, G_loss=18.2]\n",
            "Epoch [25/351]: 100%|██████████| 22/22 [00:25<00:00,  1.14s/it, D_loss=0.634, G_loss=14.6]\n"
          ]
        },
        {
          "output_type": "stream",
          "name": "stdout",
          "text": [
            "=> Saving checkpoint\n",
            "=> Saving checkpoint\n"
          ]
        },
        {
          "output_type": "stream",
          "name": "stderr",
          "text": [
            "Epoch [26/351]: 100%|██████████| 22/22 [00:26<00:00,  1.20s/it, D_loss=0.62, G_loss=14.2]\n",
            "Epoch [27/351]: 100%|██████████| 22/22 [00:24<00:00,  1.11s/it, D_loss=0.652, G_loss=16.2]\n",
            "Epoch [28/351]: 100%|██████████| 22/22 [00:24<00:00,  1.11s/it, D_loss=0.638, G_loss=15.2]\n",
            "Epoch [29/351]: 100%|██████████| 22/22 [00:24<00:00,  1.12s/it, D_loss=0.65, G_loss=15.1]\n",
            "Epoch [30/351]: 100%|██████████| 22/22 [00:24<00:00,  1.11s/it, D_loss=0.636, G_loss=15.3]\n"
          ]
        },
        {
          "output_type": "stream",
          "name": "stdout",
          "text": [
            "=> Saving checkpoint\n",
            "=> Saving checkpoint\n"
          ]
        },
        {
          "output_type": "stream",
          "name": "stderr",
          "text": [
            "Epoch [31/351]: 100%|██████████| 22/22 [00:26<00:00,  1.19s/it, D_loss=0.6, G_loss=14]\n",
            "Epoch [32/351]: 100%|██████████| 22/22 [00:24<00:00,  1.13s/it, D_loss=0.583, G_loss=16.5]\n",
            "Epoch [33/351]: 100%|██████████| 22/22 [00:24<00:00,  1.12s/it, D_loss=0.584, G_loss=13.6]\n",
            "Epoch [34/351]: 100%|██████████| 22/22 [00:24<00:00,  1.10s/it, D_loss=0.611, G_loss=12.7]\n",
            "Epoch [35/351]: 100%|██████████| 22/22 [00:25<00:00,  1.16s/it, D_loss=0.569, G_loss=14.4]\n"
          ]
        },
        {
          "output_type": "stream",
          "name": "stdout",
          "text": [
            "=> Saving checkpoint\n",
            "=> Saving checkpoint\n"
          ]
        },
        {
          "output_type": "stream",
          "name": "stderr",
          "text": [
            "Epoch [36/351]: 100%|██████████| 22/22 [00:26<00:00,  1.18s/it, D_loss=0.681, G_loss=12.6]\n",
            "Epoch [37/351]: 100%|██████████| 22/22 [00:24<00:00,  1.12s/it, D_loss=0.467, G_loss=12.5]\n",
            "Epoch [38/351]: 100%|██████████| 22/22 [00:25<00:00,  1.14s/it, D_loss=0.504, G_loss=12.4]\n",
            "Epoch [39/351]: 100%|██████████| 22/22 [00:24<00:00,  1.10s/it, D_loss=0.466, G_loss=15.4]\n",
            "Epoch [40/351]: 100%|██████████| 22/22 [00:25<00:00,  1.15s/it, D_loss=0.397, G_loss=14.9]\n"
          ]
        },
        {
          "output_type": "stream",
          "name": "stdout",
          "text": [
            "=> Saving checkpoint\n",
            "=> Saving checkpoint\n"
          ]
        },
        {
          "output_type": "stream",
          "name": "stderr",
          "text": [
            "Epoch [41/351]: 100%|██████████| 22/22 [00:26<00:00,  1.20s/it, D_loss=0.273, G_loss=13.4]\n",
            "Epoch [42/351]: 100%|██████████| 22/22 [00:24<00:00,  1.13s/it, D_loss=0.322, G_loss=13.9]\n",
            "Epoch [43/351]: 100%|██████████| 22/22 [00:24<00:00,  1.10s/it, D_loss=0.239, G_loss=12.7]\n",
            "Epoch [44/351]: 100%|██████████| 22/22 [00:24<00:00,  1.12s/it, D_loss=0.292, G_loss=12.9]\n",
            "Epoch [45/351]: 100%|██████████| 22/22 [00:24<00:00,  1.11s/it, D_loss=0.225, G_loss=13.8]\n"
          ]
        },
        {
          "output_type": "stream",
          "name": "stdout",
          "text": [
            "=> Saving checkpoint\n",
            "=> Saving checkpoint\n"
          ]
        },
        {
          "output_type": "stream",
          "name": "stderr",
          "text": [
            "Epoch [46/351]: 100%|██████████| 22/22 [00:25<00:00,  1.18s/it, D_loss=0.14, G_loss=12.5]\n",
            "Epoch [47/351]: 100%|██████████| 22/22 [00:25<00:00,  1.16s/it, D_loss=0.182, G_loss=13.7]\n",
            "Epoch [48/351]: 100%|██████████| 22/22 [00:24<00:00,  1.10s/it, D_loss=0.0903, G_loss=13.2]\n",
            "Epoch [49/351]: 100%|██████████| 22/22 [00:24<00:00,  1.11s/it, D_loss=0.374, G_loss=12.7]\n",
            "Epoch [50/351]: 100%|██████████| 22/22 [00:24<00:00,  1.12s/it, D_loss=0.738, G_loss=12]\n"
          ]
        },
        {
          "output_type": "stream",
          "name": "stdout",
          "text": [
            "=> Saving checkpoint\n",
            "=> Saving checkpoint\n"
          ]
        },
        {
          "output_type": "stream",
          "name": "stderr",
          "text": [
            "Epoch [51/351]: 100%|██████████| 22/22 [00:25<00:00,  1.17s/it, D_loss=0.115, G_loss=14.9]\n",
            "Epoch [52/351]: 100%|██████████| 22/22 [00:24<00:00,  1.11s/it, D_loss=0.0951, G_loss=14.2]\n",
            "Epoch [53/351]: 100%|██████████| 22/22 [00:24<00:00,  1.12s/it, D_loss=0.102, G_loss=13]\n",
            "Epoch [54/351]: 100%|██████████| 22/22 [00:24<00:00,  1.09s/it, D_loss=0.13, G_loss=13.1]\n",
            "Epoch [55/351]: 100%|██████████| 22/22 [00:25<00:00,  1.16s/it, D_loss=0.0926, G_loss=14]\n"
          ]
        },
        {
          "output_type": "stream",
          "name": "stdout",
          "text": [
            "=> Saving checkpoint\n",
            "=> Saving checkpoint\n"
          ]
        },
        {
          "output_type": "stream",
          "name": "stderr",
          "text": [
            "Epoch [56/351]: 100%|██████████| 22/22 [00:26<00:00,  1.19s/it, D_loss=0.0377, G_loss=12.7]\n",
            "Epoch [57/351]: 100%|██████████| 22/22 [00:24<00:00,  1.10s/it, D_loss=0.0467, G_loss=12.8]\n",
            "Epoch [58/351]: 100%|██████████| 22/22 [00:25<00:00,  1.16s/it, D_loss=0.0596, G_loss=12.9]\n",
            "Epoch [59/351]: 100%|██████████| 22/22 [00:24<00:00,  1.12s/it, D_loss=2.55, G_loss=10.5]\n",
            "Epoch [60/351]: 100%|██████████| 22/22 [00:25<00:00,  1.14s/it, D_loss=0.757, G_loss=9.45]\n"
          ]
        },
        {
          "output_type": "stream",
          "name": "stdout",
          "text": [
            "=> Saving checkpoint\n",
            "=> Saving checkpoint\n"
          ]
        },
        {
          "output_type": "stream",
          "name": "stderr",
          "text": [
            "Epoch [61/351]: 100%|██████████| 22/22 [00:26<00:00,  1.20s/it, D_loss=0.77, G_loss=9.84]\n",
            "Epoch [62/351]: 100%|██████████| 22/22 [00:24<00:00,  1.11s/it, D_loss=0.692, G_loss=9.75]\n",
            "Epoch [63/351]: 100%|██████████| 22/22 [00:24<00:00,  1.11s/it, D_loss=0.706, G_loss=9.58]\n",
            "Epoch [64/351]: 100%|██████████| 22/22 [00:24<00:00,  1.11s/it, D_loss=0.577, G_loss=10.6]\n",
            "Epoch [65/351]: 100%|██████████| 22/22 [00:24<00:00,  1.11s/it, D_loss=0.45, G_loss=9.56]\n"
          ]
        },
        {
          "output_type": "stream",
          "name": "stdout",
          "text": [
            "=> Saving checkpoint\n",
            "=> Saving checkpoint\n"
          ]
        },
        {
          "output_type": "stream",
          "name": "stderr",
          "text": [
            "Epoch [66/351]: 100%|██████████| 22/22 [00:25<00:00,  1.17s/it, D_loss=0.934, G_loss=9.52]\n",
            "Epoch [67/351]: 100%|██████████| 22/22 [00:24<00:00,  1.13s/it, D_loss=0.256, G_loss=10.1]\n",
            "Epoch [68/351]: 100%|██████████| 22/22 [00:24<00:00,  1.11s/it, D_loss=0.137, G_loss=10.6]\n",
            "Epoch [69/351]: 100%|██████████| 22/22 [00:24<00:00,  1.13s/it, D_loss=0.173, G_loss=11.1]\n",
            "Epoch [70/351]: 100%|██████████| 22/22 [00:24<00:00,  1.11s/it, D_loss=0.125, G_loss=11]\n"
          ]
        },
        {
          "output_type": "stream",
          "name": "stdout",
          "text": [
            "=> Saving checkpoint\n",
            "=> Saving checkpoint\n"
          ]
        },
        {
          "output_type": "stream",
          "name": "stderr",
          "text": [
            "Epoch [71/351]: 100%|██████████| 22/22 [00:25<00:00,  1.17s/it, D_loss=0.0728, G_loss=12.7]\n",
            "Epoch [72/351]: 100%|██████████| 22/22 [00:25<00:00,  1.14s/it, D_loss=0.0999, G_loss=11]\n",
            "Epoch [73/351]: 100%|██████████| 22/22 [00:24<00:00,  1.11s/it, D_loss=0.082, G_loss=10.8]\n",
            "Epoch [74/351]: 100%|██████████| 22/22 [00:24<00:00,  1.09s/it, D_loss=0.0546, G_loss=11.6]\n",
            "Epoch [75/351]: 100%|██████████| 22/22 [00:24<00:00,  1.12s/it, D_loss=0.0331, G_loss=12.8]\n"
          ]
        },
        {
          "output_type": "stream",
          "name": "stdout",
          "text": [
            "=> Saving checkpoint\n",
            "=> Saving checkpoint\n"
          ]
        },
        {
          "output_type": "stream",
          "name": "stderr",
          "text": [
            "Epoch [76/351]: 100%|██████████| 22/22 [00:25<00:00,  1.18s/it, D_loss=0.708, G_loss=8.61]\n",
            "Epoch [77/351]: 100%|██████████| 22/22 [00:24<00:00,  1.12s/it, D_loss=0.587, G_loss=9.33]\n",
            "Epoch [78/351]: 100%|██████████| 22/22 [00:25<00:00,  1.15s/it, D_loss=0.143, G_loss=11.3]\n",
            "Epoch [79/351]: 100%|██████████| 22/22 [00:24<00:00,  1.10s/it, D_loss=0.0737, G_loss=10.2]\n",
            "Epoch [80/351]: 100%|██████████| 22/22 [00:24<00:00,  1.12s/it, D_loss=0.0432, G_loss=10.9]\n"
          ]
        },
        {
          "output_type": "stream",
          "name": "stdout",
          "text": [
            "=> Saving checkpoint\n",
            "=> Saving checkpoint\n"
          ]
        },
        {
          "output_type": "stream",
          "name": "stderr",
          "text": [
            "Epoch [81/351]: 100%|██████████| 22/22 [00:26<00:00,  1.18s/it, D_loss=0.0338, G_loss=11.4]\n",
            "Epoch [82/351]: 100%|██████████| 22/22 [00:24<00:00,  1.11s/it, D_loss=0.0303, G_loss=11.8]\n",
            "Epoch [83/351]: 100%|██████████| 22/22 [00:24<00:00,  1.12s/it, D_loss=0.0253, G_loss=11.6]\n",
            "Epoch [84/351]: 100%|██████████| 22/22 [00:24<00:00,  1.10s/it, D_loss=0.0329, G_loss=11.9]\n",
            "Epoch [85/351]: 100%|██████████| 22/22 [00:24<00:00,  1.10s/it, D_loss=0.253, G_loss=11.3]\n"
          ]
        },
        {
          "output_type": "stream",
          "name": "stdout",
          "text": [
            "=> Saving checkpoint\n",
            "=> Saving checkpoint\n"
          ]
        },
        {
          "output_type": "stream",
          "name": "stderr",
          "text": [
            "Epoch [86/351]: 100%|██████████| 22/22 [00:26<00:00,  1.19s/it, D_loss=0.0659, G_loss=10.8]\n",
            "Epoch [87/351]: 100%|██████████| 22/22 [00:24<00:00,  1.13s/it, D_loss=0.0292, G_loss=12.1]\n",
            "Epoch [88/351]: 100%|██████████| 22/22 [00:24<00:00,  1.09s/it, D_loss=0.0582, G_loss=11.9]\n",
            "Epoch [89/351]: 100%|██████████| 22/22 [00:24<00:00,  1.12s/it, D_loss=0.0247, G_loss=13.4]\n",
            "Epoch [90/351]: 100%|██████████| 22/22 [00:24<00:00,  1.11s/it, D_loss=0.0286, G_loss=11.8]\n"
          ]
        },
        {
          "output_type": "stream",
          "name": "stdout",
          "text": [
            "=> Saving checkpoint\n",
            "=> Saving checkpoint\n"
          ]
        },
        {
          "output_type": "stream",
          "name": "stderr",
          "text": [
            "Epoch [91/351]: 100%|██████████| 22/22 [00:25<00:00,  1.15s/it, D_loss=0.0163, G_loss=13.3]\n",
            "Epoch [92/351]: 100%|██████████| 22/22 [00:25<00:00,  1.15s/it, D_loss=0.0756, G_loss=12.1]\n",
            "Epoch [93/351]: 100%|██████████| 22/22 [00:24<00:00,  1.09s/it, D_loss=0.0199, G_loss=12.8]\n",
            "Epoch [94/351]: 100%|██████████| 22/22 [00:24<00:00,  1.13s/it, D_loss=0.018, G_loss=12.5]\n",
            "Epoch [95/351]: 100%|██████████| 22/22 [00:24<00:00,  1.10s/it, D_loss=0.0157, G_loss=12]\n"
          ]
        },
        {
          "output_type": "stream",
          "name": "stdout",
          "text": [
            "=> Saving checkpoint\n",
            "=> Saving checkpoint\n"
          ]
        },
        {
          "output_type": "stream",
          "name": "stderr",
          "text": [
            "Epoch [96/351]: 100%|██████████| 22/22 [00:25<00:00,  1.16s/it, D_loss=1.73, G_loss=9.53]\n",
            "Epoch [97/351]: 100%|██████████| 22/22 [00:24<00:00,  1.12s/it, D_loss=0.733, G_loss=8.37]\n",
            "Epoch [98/351]: 100%|██████████| 22/22 [00:24<00:00,  1.11s/it, D_loss=0.769, G_loss=10.1]\n",
            "Epoch [99/351]: 100%|██████████| 22/22 [00:24<00:00,  1.11s/it, D_loss=0.0738, G_loss=10.9]\n",
            "Epoch [100/351]: 100%|██████████| 22/22 [00:25<00:00,  1.14s/it, D_loss=0.261, G_loss=9.09]\n"
          ]
        },
        {
          "output_type": "stream",
          "name": "stdout",
          "text": [
            "=> Saving checkpoint\n",
            "=> Saving checkpoint\n"
          ]
        },
        {
          "output_type": "stream",
          "name": "stderr",
          "text": [
            "Epoch [101/351]: 100%|██████████| 22/22 [00:25<00:00,  1.17s/it, D_loss=0.0239, G_loss=11.4]\n",
            "Epoch [102/351]: 100%|██████████| 22/22 [00:24<00:00,  1.11s/it, D_loss=0.0244, G_loss=12.9]\n",
            "Epoch [103/351]: 100%|██████████| 22/22 [00:24<00:00,  1.13s/it, D_loss=0.0213, G_loss=12.2]\n",
            "Epoch [104/351]: 100%|██████████| 22/22 [00:24<00:00,  1.11s/it, D_loss=0.0229, G_loss=12.8]\n",
            "Epoch [105/351]: 100%|██████████| 22/22 [00:24<00:00,  1.13s/it, D_loss=0.0133, G_loss=11.3]\n"
          ]
        },
        {
          "output_type": "stream",
          "name": "stdout",
          "text": [
            "=> Saving checkpoint\n",
            "=> Saving checkpoint\n"
          ]
        },
        {
          "output_type": "stream",
          "name": "stderr",
          "text": [
            "Epoch [106/351]: 100%|██████████| 22/22 [00:26<00:00,  1.19s/it, D_loss=0.0231, G_loss=11.7]\n",
            "Epoch [107/351]: 100%|██████████| 22/22 [00:24<00:00,  1.10s/it, D_loss=0.0117, G_loss=12.7]\n",
            "Epoch [108/351]: 100%|██████████| 22/22 [00:24<00:00,  1.14s/it, D_loss=1.77, G_loss=9.05]\n",
            "Epoch [109/351]: 100%|██████████| 22/22 [00:24<00:00,  1.11s/it, D_loss=0.719, G_loss=7.54]\n",
            "Epoch [110/351]: 100%|██████████| 22/22 [00:24<00:00,  1.10s/it, D_loss=0.693, G_loss=7.75]\n"
          ]
        },
        {
          "output_type": "stream",
          "name": "stdout",
          "text": [
            "=> Saving checkpoint\n",
            "=> Saving checkpoint\n"
          ]
        },
        {
          "output_type": "stream",
          "name": "stderr",
          "text": [
            "Epoch [111/351]: 100%|██████████| 22/22 [00:26<00:00,  1.20s/it, D_loss=0.703, G_loss=6.96]\n",
            "Epoch [112/351]: 100%|██████████| 22/22 [00:24<00:00,  1.12s/it, D_loss=0.483, G_loss=8.77]\n",
            "Epoch [113/351]: 100%|██████████| 22/22 [00:24<00:00,  1.10s/it, D_loss=0.214, G_loss=9.37]\n",
            "Epoch [114/351]: 100%|██████████| 22/22 [00:24<00:00,  1.12s/it, D_loss=0.0548, G_loss=11.7]\n",
            "Epoch [115/351]: 100%|██████████| 22/22 [00:24<00:00,  1.11s/it, D_loss=0.03, G_loss=11.7]\n"
          ]
        },
        {
          "output_type": "stream",
          "name": "stdout",
          "text": [
            "=> Saving checkpoint\n",
            "=> Saving checkpoint\n"
          ]
        },
        {
          "output_type": "stream",
          "name": "stderr",
          "text": [
            "Epoch [116/351]: 100%|██████████| 22/22 [00:26<00:00,  1.19s/it, D_loss=0.0229, G_loss=12.5]\n",
            "Epoch [117/351]: 100%|██████████| 22/22 [00:24<00:00,  1.12s/it, D_loss=0.0217, G_loss=11]\n",
            "Epoch [118/351]: 100%|██████████| 22/22 [00:24<00:00,  1.11s/it, D_loss=0.0326, G_loss=12.9]\n",
            "Epoch [119/351]: 100%|██████████| 22/22 [00:24<00:00,  1.10s/it, D_loss=0.0257, G_loss=11.8]\n",
            "Epoch [120/351]: 100%|██████████| 22/22 [00:24<00:00,  1.12s/it, D_loss=0.0164, G_loss=12.4]\n"
          ]
        },
        {
          "output_type": "stream",
          "name": "stdout",
          "text": [
            "=> Saving checkpoint\n",
            "=> Saving checkpoint\n"
          ]
        },
        {
          "output_type": "stream",
          "name": "stderr",
          "text": [
            "Epoch [121/351]: 100%|██████████| 22/22 [00:25<00:00,  1.17s/it, D_loss=0.018, G_loss=12.6]\n",
            "Epoch [122/351]: 100%|██████████| 22/22 [00:24<00:00,  1.12s/it, D_loss=0.00853, G_loss=12.3]\n",
            "Epoch [123/351]: 100%|██████████| 22/22 [00:24<00:00,  1.13s/it, D_loss=0.651, G_loss=11.5]\n",
            "Epoch [124/351]: 100%|██████████| 22/22 [00:24<00:00,  1.10s/it, D_loss=0.034, G_loss=10.6]\n",
            "Epoch [125/351]: 100%|██████████| 22/22 [00:25<00:00,  1.15s/it, D_loss=0.671, G_loss=8.34]\n"
          ]
        },
        {
          "output_type": "stream",
          "name": "stdout",
          "text": [
            "=> Saving checkpoint\n",
            "=> Saving checkpoint\n"
          ]
        },
        {
          "output_type": "stream",
          "name": "stderr",
          "text": [
            "Epoch [126/351]: 100%|██████████| 22/22 [00:25<00:00,  1.16s/it, D_loss=0.416, G_loss=7.7]\n",
            "Epoch [127/351]: 100%|██████████| 22/22 [00:24<00:00,  1.12s/it, D_loss=0.0386, G_loss=10.7]\n",
            "Epoch [128/351]: 100%|██████████| 22/22 [00:25<00:00,  1.14s/it, D_loss=0.0359, G_loss=11.6]\n",
            "Epoch [129/351]: 100%|██████████| 22/22 [00:24<00:00,  1.10s/it, D_loss=0.228, G_loss=10.4]\n",
            "Epoch [130/351]: 100%|██████████| 22/22 [00:24<00:00,  1.10s/it, D_loss=0.032, G_loss=11.5]\n"
          ]
        },
        {
          "output_type": "stream",
          "name": "stdout",
          "text": [
            "=> Saving checkpoint\n",
            "=> Saving checkpoint\n"
          ]
        },
        {
          "output_type": "stream",
          "name": "stderr",
          "text": [
            "Epoch [131/351]: 100%|██████████| 22/22 [00:26<00:00,  1.19s/it, D_loss=0.0147, G_loss=11.4]\n",
            "Epoch [132/351]: 100%|██████████| 22/22 [00:24<00:00,  1.12s/it, D_loss=0.0303, G_loss=10.7]\n",
            "Epoch [133/351]: 100%|██████████| 22/22 [00:23<00:00,  1.09s/it, D_loss=0.0109, G_loss=11.2]\n",
            "Epoch [134/351]: 100%|██████████| 22/22 [00:24<00:00,  1.11s/it, D_loss=0.102, G_loss=11.8]\n",
            "Epoch [135/351]: 100%|██████████| 22/22 [00:24<00:00,  1.10s/it, D_loss=0.00931, G_loss=11.7]\n"
          ]
        },
        {
          "output_type": "stream",
          "name": "stdout",
          "text": [
            "=> Saving checkpoint\n",
            "=> Saving checkpoint\n"
          ]
        },
        {
          "output_type": "stream",
          "name": "stderr",
          "text": [
            "Epoch [136/351]: 100%|██████████| 22/22 [00:25<00:00,  1.18s/it, D_loss=0.0999, G_loss=11.6]\n",
            "Epoch [137/351]: 100%|██████████| 22/22 [00:25<00:00,  1.15s/it, D_loss=1.33, G_loss=8.09]\n",
            "Epoch [138/351]: 100%|██████████| 22/22 [00:24<00:00,  1.10s/it, D_loss=0.177, G_loss=9.97]\n",
            "Epoch [139/351]: 100%|██████████| 22/22 [00:24<00:00,  1.11s/it, D_loss=0.0842, G_loss=11.2]\n",
            "Epoch [140/351]: 100%|██████████| 22/22 [00:24<00:00,  1.12s/it, D_loss=0.033, G_loss=11.6]\n"
          ]
        },
        {
          "output_type": "stream",
          "name": "stdout",
          "text": [
            "=> Saving checkpoint\n",
            "=> Saving checkpoint\n"
          ]
        },
        {
          "output_type": "stream",
          "name": "stderr",
          "text": [
            "Epoch [141/351]: 100%|██████████| 22/22 [00:25<00:00,  1.17s/it, D_loss=0.0149, G_loss=10.7]\n",
            "Epoch [142/351]: 100%|██████████| 22/22 [00:24<00:00,  1.11s/it, D_loss=0.0149, G_loss=11.3]\n",
            "Epoch [143/351]: 100%|██████████| 22/22 [00:24<00:00,  1.11s/it, D_loss=0.0352, G_loss=11.4]\n",
            "Epoch [144/351]: 100%|██████████| 22/22 [00:24<00:00,  1.10s/it, D_loss=0.0223, G_loss=10.7]\n",
            "Epoch [145/351]: 100%|██████████| 22/22 [00:25<00:00,  1.14s/it, D_loss=0.00989, G_loss=12.2]\n"
          ]
        },
        {
          "output_type": "stream",
          "name": "stdout",
          "text": [
            "=> Saving checkpoint\n",
            "=> Saving checkpoint\n"
          ]
        },
        {
          "output_type": "stream",
          "name": "stderr",
          "text": [
            "Epoch [146/351]: 100%|██████████| 22/22 [00:25<00:00,  1.17s/it, D_loss=0.0962, G_loss=9.79]\n",
            "Epoch [147/351]: 100%|██████████| 22/22 [00:24<00:00,  1.11s/it, D_loss=2.01, G_loss=8.05]\n",
            "Epoch [148/351]: 100%|██████████| 22/22 [00:25<00:00,  1.14s/it, D_loss=0.161, G_loss=10.7]\n",
            "Epoch [149/351]: 100%|██████████| 22/22 [00:24<00:00,  1.11s/it, D_loss=0.0233, G_loss=12.3]\n",
            "Epoch [150/351]: 100%|██████████| 22/22 [00:24<00:00,  1.11s/it, D_loss=0.181, G_loss=10.4]\n"
          ]
        },
        {
          "output_type": "stream",
          "name": "stdout",
          "text": [
            "=> Saving checkpoint\n",
            "=> Saving checkpoint\n"
          ]
        },
        {
          "output_type": "stream",
          "name": "stderr",
          "text": [
            "Epoch [151/351]: 100%|██████████| 22/22 [00:25<00:00,  1.18s/it, D_loss=0.0237, G_loss=10.7]\n",
            "Epoch [152/351]: 100%|██████████| 22/22 [00:24<00:00,  1.11s/it, D_loss=0.0102, G_loss=11.8]\n",
            "Epoch [153/351]: 100%|██████████| 22/22 [00:24<00:00,  1.11s/it, D_loss=0.0148, G_loss=11.4]\n",
            "Epoch [154/351]: 100%|██████████| 22/22 [00:24<00:00,  1.12s/it, D_loss=0.0237, G_loss=10.4]\n",
            "Epoch [155/351]: 100%|██████████| 22/22 [00:24<00:00,  1.10s/it, D_loss=0.0209, G_loss=12.1]\n"
          ]
        },
        {
          "output_type": "stream",
          "name": "stdout",
          "text": [
            "=> Saving checkpoint\n",
            "=> Saving checkpoint\n"
          ]
        },
        {
          "output_type": "stream",
          "name": "stderr",
          "text": [
            "Epoch [156/351]: 100%|██████████| 22/22 [00:25<00:00,  1.16s/it, D_loss=0.0263, G_loss=12.9]\n",
            "Epoch [157/351]: 100%|██████████| 22/22 [00:24<00:00,  1.13s/it, D_loss=0.0104, G_loss=11.7]\n",
            "Epoch [158/351]: 100%|██████████| 22/22 [00:24<00:00,  1.10s/it, D_loss=0.0391, G_loss=11]\n",
            "Epoch [159/351]: 100%|██████████| 22/22 [00:24<00:00,  1.13s/it, D_loss=0.0206, G_loss=11.6]\n",
            "Epoch [160/351]: 100%|██████████| 22/22 [00:24<00:00,  1.11s/it, D_loss=0.00912, G_loss=12.3]\n"
          ]
        },
        {
          "output_type": "stream",
          "name": "stdout",
          "text": [
            "=> Saving checkpoint\n",
            "=> Saving checkpoint\n"
          ]
        },
        {
          "output_type": "stream",
          "name": "stderr",
          "text": [
            "Epoch [161/351]: 100%|██████████| 22/22 [00:25<00:00,  1.17s/it, D_loss=0.00971, G_loss=12.5]\n",
            "Epoch [162/351]: 100%|██████████| 22/22 [00:24<00:00,  1.12s/it, D_loss=0.0111, G_loss=12.3]\n",
            "Epoch [163/351]: 100%|██████████| 22/22 [00:24<00:00,  1.12s/it, D_loss=0.0107, G_loss=11.8]\n",
            "Epoch [164/351]: 100%|██████████| 22/22 [00:24<00:00,  1.10s/it, D_loss=1.11, G_loss=7.18]\n",
            "Epoch [165/351]: 100%|██████████| 22/22 [00:24<00:00,  1.13s/it, D_loss=0.782, G_loss=6.9]\n"
          ]
        },
        {
          "output_type": "stream",
          "name": "stdout",
          "text": [
            "=> Saving checkpoint\n",
            "=> Saving checkpoint\n"
          ]
        },
        {
          "output_type": "stream",
          "name": "stderr",
          "text": [
            "Epoch [166/351]: 100%|██████████| 22/22 [00:26<00:00,  1.20s/it, D_loss=0.677, G_loss=6.58]\n",
            "Epoch [167/351]: 100%|██████████| 22/22 [00:24<00:00,  1.10s/it, D_loss=0.461, G_loss=7.96]\n",
            "Epoch [168/351]: 100%|██████████| 22/22 [00:25<00:00,  1.14s/it, D_loss=0.186, G_loss=9.2]\n",
            "Epoch [169/351]: 100%|██████████| 22/22 [00:24<00:00,  1.11s/it, D_loss=0.105, G_loss=10.3]\n",
            "Epoch [170/351]: 100%|██████████| 22/22 [00:24<00:00,  1.12s/it, D_loss=0.13, G_loss=9.29]\n"
          ]
        },
        {
          "output_type": "stream",
          "name": "stdout",
          "text": [
            "=> Saving checkpoint\n",
            "=> Saving checkpoint\n"
          ]
        },
        {
          "output_type": "stream",
          "name": "stderr",
          "text": [
            "Epoch [171/351]: 100%|██████████| 22/22 [00:26<00:00,  1.20s/it, D_loss=0.0426, G_loss=10]\n",
            "Epoch [172/351]: 100%|██████████| 22/22 [00:24<00:00,  1.11s/it, D_loss=0.145, G_loss=9.29]\n",
            "Epoch [173/351]: 100%|██████████| 22/22 [00:23<00:00,  1.09s/it, D_loss=0.0475, G_loss=12]\n",
            "Epoch [174/351]: 100%|██████████| 22/22 [00:24<00:00,  1.11s/it, D_loss=0.021, G_loss=11.2]\n",
            "Epoch [175/351]: 100%|██████████| 22/22 [00:24<00:00,  1.10s/it, D_loss=0.0753, G_loss=12.1]\n"
          ]
        },
        {
          "output_type": "stream",
          "name": "stdout",
          "text": [
            "=> Saving checkpoint\n",
            "=> Saving checkpoint\n"
          ]
        },
        {
          "output_type": "stream",
          "name": "stderr",
          "text": [
            "Epoch [176/351]: 100%|██████████| 22/22 [00:25<00:00,  1.14s/it, D_loss=0.0213, G_loss=11]\n",
            "Epoch [177/351]: 100%|██████████| 22/22 [00:24<00:00,  1.13s/it, D_loss=0.0271, G_loss=11.5]\n",
            "Epoch [178/351]: 100%|██████████| 22/22 [00:24<00:00,  1.10s/it, D_loss=0.504, G_loss=9.07]\n",
            "Epoch [179/351]: 100%|██████████| 22/22 [00:25<00:00,  1.15s/it, D_loss=0.236, G_loss=8.21]\n",
            "Epoch [180/351]: 100%|██████████| 22/22 [00:24<00:00,  1.11s/it, D_loss=0.176, G_loss=8.68]\n"
          ]
        },
        {
          "output_type": "stream",
          "name": "stdout",
          "text": [
            "=> Saving checkpoint\n",
            "=> Saving checkpoint\n"
          ]
        },
        {
          "output_type": "stream",
          "name": "stderr",
          "text": [
            "Epoch [181/351]: 100%|██████████| 22/22 [00:25<00:00,  1.17s/it, D_loss=0.0232, G_loss=10.3]\n",
            "Epoch [182/351]: 100%|██████████| 22/22 [00:24<00:00,  1.12s/it, D_loss=0.0239, G_loss=10.3]\n",
            "Epoch [183/351]: 100%|██████████| 22/22 [00:24<00:00,  1.11s/it, D_loss=0.132, G_loss=9.82]\n",
            "Epoch [184/351]: 100%|██████████| 22/22 [00:24<00:00,  1.09s/it, D_loss=0.0235, G_loss=10.3]\n",
            "Epoch [185/351]: 100%|██████████| 22/22 [00:24<00:00,  1.13s/it, D_loss=0.0726, G_loss=11.2]\n"
          ]
        },
        {
          "output_type": "stream",
          "name": "stdout",
          "text": [
            "=> Saving checkpoint\n",
            "=> Saving checkpoint\n"
          ]
        },
        {
          "output_type": "stream",
          "name": "stderr",
          "text": [
            "Epoch [186/351]: 100%|██████████| 22/22 [00:25<00:00,  1.17s/it, D_loss=0.0265, G_loss=10.2]\n",
            "Epoch [187/351]: 100%|██████████| 22/22 [00:24<00:00,  1.11s/it, D_loss=0.0449, G_loss=9.81]\n",
            "Epoch [188/351]: 100%|██████████| 22/22 [00:24<00:00,  1.12s/it, D_loss=0.01, G_loss=10.3]\n",
            "Epoch [189/351]: 100%|██████████| 22/22 [00:23<00:00,  1.09s/it, D_loss=0.0331, G_loss=10.5]\n",
            "Epoch [190/351]: 100%|██████████| 22/22 [00:25<00:00,  1.14s/it, D_loss=0.016, G_loss=11]\n"
          ]
        },
        {
          "output_type": "stream",
          "name": "stdout",
          "text": [
            "=> Saving checkpoint\n",
            "=> Saving checkpoint\n"
          ]
        },
        {
          "output_type": "stream",
          "name": "stderr",
          "text": [
            "Epoch [191/351]: 100%|██████████| 22/22 [00:25<00:00,  1.17s/it, D_loss=0.0107, G_loss=11.5]\n",
            "Epoch [192/351]: 100%|██████████| 22/22 [00:24<00:00,  1.10s/it, D_loss=0.0062, G_loss=11.6]\n",
            "Epoch [193/351]: 100%|██████████| 22/22 [00:24<00:00,  1.13s/it, D_loss=0.0126, G_loss=11.6]\n",
            "Epoch [194/351]: 100%|██████████| 22/22 [00:24<00:00,  1.10s/it, D_loss=1.16, G_loss=6.61]\n",
            "Epoch [195/351]: 100%|██████████| 22/22 [00:24<00:00,  1.13s/it, D_loss=0.804, G_loss=6.42]\n"
          ]
        },
        {
          "output_type": "stream",
          "name": "stdout",
          "text": [
            "=> Saving checkpoint\n",
            "=> Saving checkpoint\n"
          ]
        },
        {
          "output_type": "stream",
          "name": "stderr",
          "text": [
            "Epoch [196/351]: 100%|██████████| 22/22 [00:26<00:00,  1.21s/it, D_loss=0.689, G_loss=6.54]\n",
            "Epoch [197/351]: 100%|██████████| 22/22 [00:24<00:00,  1.11s/it, D_loss=0.701, G_loss=5.8]\n",
            "Epoch [198/351]: 100%|██████████| 22/22 [00:24<00:00,  1.10s/it, D_loss=0.697, G_loss=6.35]\n",
            "Epoch [199/351]: 100%|██████████| 22/22 [00:24<00:00,  1.12s/it, D_loss=0.692, G_loss=6.4]\n",
            "Epoch [200/351]: 100%|██████████| 22/22 [00:24<00:00,  1.10s/it, D_loss=0.693, G_loss=5.54]\n"
          ]
        },
        {
          "output_type": "stream",
          "name": "stdout",
          "text": [
            "=> Saving checkpoint\n",
            "=> Saving checkpoint\n"
          ]
        },
        {
          "output_type": "stream",
          "name": "stderr",
          "text": [
            "Epoch [201/351]: 100%|██████████| 22/22 [00:25<00:00,  1.18s/it, D_loss=0.695, G_loss=5.68]\n",
            "Epoch [202/351]: 100%|██████████| 22/22 [00:24<00:00,  1.13s/it, D_loss=0.681, G_loss=6.27]\n",
            "Epoch [203/351]: 100%|██████████| 22/22 [00:24<00:00,  1.12s/it, D_loss=0.692, G_loss=5.43]\n",
            "Epoch [204/351]: 100%|██████████| 22/22 [00:23<00:00,  1.09s/it, D_loss=0.706, G_loss=5.81]\n",
            "Epoch [205/351]: 100%|██████████| 22/22 [00:25<00:00,  1.15s/it, D_loss=0.626, G_loss=6]\n"
          ]
        },
        {
          "output_type": "stream",
          "name": "stdout",
          "text": [
            "=> Saving checkpoint\n",
            "=> Saving checkpoint\n"
          ]
        },
        {
          "output_type": "stream",
          "name": "stderr",
          "text": [
            "Epoch [206/351]: 100%|██████████| 22/22 [00:26<00:00,  1.19s/it, D_loss=0.626, G_loss=5.86]\n",
            "Epoch [207/351]: 100%|██████████| 22/22 [00:24<00:00,  1.10s/it, D_loss=0.675, G_loss=5.94]\n",
            "Epoch [208/351]: 100%|██████████| 22/22 [00:25<00:00,  1.14s/it, D_loss=0.63, G_loss=6.98]\n",
            "Epoch [209/351]: 100%|██████████| 22/22 [00:24<00:00,  1.11s/it, D_loss=0.0872, G_loss=8.2]\n",
            "Epoch [210/351]: 100%|██████████| 22/22 [00:24<00:00,  1.12s/it, D_loss=0.654, G_loss=7.8]\n"
          ]
        },
        {
          "output_type": "stream",
          "name": "stdout",
          "text": [
            "=> Saving checkpoint\n",
            "=> Saving checkpoint\n"
          ]
        },
        {
          "output_type": "stream",
          "name": "stderr",
          "text": [
            "Epoch [211/351]: 100%|██████████| 22/22 [00:25<00:00,  1.16s/it, D_loss=0.0374, G_loss=9]\n",
            "Epoch [212/351]: 100%|██████████| 22/22 [00:25<00:00,  1.15s/it, D_loss=0.0411, G_loss=9.51]\n",
            "Epoch [213/351]: 100%|██████████| 22/22 [00:24<00:00,  1.10s/it, D_loss=0.096, G_loss=9.99]\n",
            "Epoch [214/351]: 100%|██████████| 22/22 [00:24<00:00,  1.10s/it, D_loss=0.0108, G_loss=10.2]\n",
            "Epoch [215/351]: 100%|██████████| 22/22 [00:24<00:00,  1.12s/it, D_loss=0.0194, G_loss=10.5]\n"
          ]
        },
        {
          "output_type": "stream",
          "name": "stdout",
          "text": [
            "=> Saving checkpoint\n",
            "=> Saving checkpoint\n"
          ]
        },
        {
          "output_type": "stream",
          "name": "stderr",
          "text": [
            "Epoch [216/351]: 100%|██████████| 22/22 [00:25<00:00,  1.14s/it, D_loss=0.0209, G_loss=10.4]\n",
            "Epoch [217/351]: 100%|██████████| 22/22 [00:24<00:00,  1.11s/it, D_loss=0.0178, G_loss=10.1]\n",
            "Epoch [218/351]: 100%|██████████| 22/22 [00:25<00:00,  1.15s/it, D_loss=0.0528, G_loss=9.74]\n",
            "Epoch [219/351]: 100%|██████████| 22/22 [00:24<00:00,  1.10s/it, D_loss=0.0143, G_loss=11.2]\n",
            "Epoch [220/351]: 100%|██████████| 22/22 [00:25<00:00,  1.14s/it, D_loss=0.00909, G_loss=10.6]\n"
          ]
        },
        {
          "output_type": "stream",
          "name": "stdout",
          "text": [
            "=> Saving checkpoint\n",
            "=> Saving checkpoint\n"
          ]
        },
        {
          "output_type": "stream",
          "name": "stderr",
          "text": [
            "Epoch [221/351]: 100%|██████████| 22/22 [00:25<00:00,  1.15s/it, D_loss=0.0142, G_loss=11.7]\n",
            "Epoch [222/351]: 100%|██████████| 22/22 [00:24<00:00,  1.11s/it, D_loss=0.00941, G_loss=10.7]\n",
            "Epoch [223/351]: 100%|██████████| 22/22 [00:25<00:00,  1.14s/it, D_loss=0.0129, G_loss=11.5]\n",
            "Epoch [224/351]: 100%|██████████| 22/22 [00:24<00:00,  1.11s/it, D_loss=0.0087, G_loss=11.8]\n",
            "Epoch [225/351]: 100%|██████████| 22/22 [00:24<00:00,  1.12s/it, D_loss=0.00734, G_loss=11.3]\n"
          ]
        },
        {
          "output_type": "stream",
          "name": "stdout",
          "text": [
            "=> Saving checkpoint\n",
            "=> Saving checkpoint\n"
          ]
        },
        {
          "output_type": "stream",
          "name": "stderr",
          "text": [
            "Epoch [226/351]: 100%|██████████| 22/22 [00:25<00:00,  1.15s/it, D_loss=0.774, G_loss=5.86]\n",
            "Epoch [227/351]: 100%|██████████| 22/22 [00:24<00:00,  1.13s/it, D_loss=0.702, G_loss=6.2]\n",
            "Epoch [228/351]: 100%|██████████| 22/22 [00:24<00:00,  1.12s/it, D_loss=0.724, G_loss=6.94]\n",
            "Epoch [229/351]: 100%|██████████| 22/22 [00:24<00:00,  1.10s/it, D_loss=0.262, G_loss=8.12]\n",
            "Epoch [230/351]: 100%|██████████| 22/22 [00:25<00:00,  1.16s/it, D_loss=0.0417, G_loss=9.95]\n"
          ]
        },
        {
          "output_type": "stream",
          "name": "stdout",
          "text": [
            "=> Saving checkpoint\n",
            "=> Saving checkpoint\n"
          ]
        },
        {
          "output_type": "stream",
          "name": "stderr",
          "text": [
            "Epoch [231/351]: 100%|██████████| 22/22 [00:25<00:00,  1.18s/it, D_loss=0.0645, G_loss=9.93]\n",
            "Epoch [232/351]: 100%|██████████| 22/22 [00:24<00:00,  1.10s/it, D_loss=0.0146, G_loss=10.3]\n",
            "Epoch [233/351]: 100%|██████████| 22/22 [00:25<00:00,  1.15s/it, D_loss=0.0381, G_loss=8.93]\n",
            "Epoch [234/351]: 100%|██████████| 22/22 [00:24<00:00,  1.11s/it, D_loss=0.0234, G_loss=9.13]\n",
            "Epoch [235/351]: 100%|██████████| 22/22 [00:24<00:00,  1.11s/it, D_loss=0.0121, G_loss=11.7]\n"
          ]
        },
        {
          "output_type": "stream",
          "name": "stdout",
          "text": [
            "=> Saving checkpoint\n",
            "=> Saving checkpoint\n"
          ]
        },
        {
          "output_type": "stream",
          "name": "stderr",
          "text": [
            "Epoch [236/351]: 100%|██████████| 22/22 [00:25<00:00,  1.17s/it, D_loss=0.0259, G_loss=10.2]\n",
            "Epoch [237/351]: 100%|██████████| 22/22 [00:25<00:00,  1.14s/it, D_loss=0.159, G_loss=10.5]\n",
            "Epoch [238/351]: 100%|██████████| 22/22 [00:24<00:00,  1.13s/it, D_loss=0.625, G_loss=8.34]\n",
            "Epoch [239/351]: 100%|██████████| 22/22 [00:24<00:00,  1.10s/it, D_loss=0.119, G_loss=8.42]\n",
            "Epoch [240/351]: 100%|██████████| 22/22 [00:25<00:00,  1.14s/it, D_loss=0.113, G_loss=9.07]\n"
          ]
        },
        {
          "output_type": "stream",
          "name": "stdout",
          "text": [
            "=> Saving checkpoint\n",
            "=> Saving checkpoint\n"
          ]
        },
        {
          "output_type": "stream",
          "name": "stderr",
          "text": [
            "Epoch [241/351]: 100%|██████████| 22/22 [00:25<00:00,  1.17s/it, D_loss=0.00893, G_loss=11]\n",
            "Epoch [242/351]: 100%|██████████| 22/22 [00:24<00:00,  1.11s/it, D_loss=0.0129, G_loss=10.5]\n",
            "Epoch [243/351]: 100%|██████████| 22/22 [00:24<00:00,  1.12s/it, D_loss=0.0301, G_loss=9.97]\n",
            "Epoch [244/351]: 100%|██████████| 22/22 [00:24<00:00,  1.10s/it, D_loss=0.0494, G_loss=9.31]\n",
            "Epoch [245/351]: 100%|██████████| 22/22 [00:25<00:00,  1.15s/it, D_loss=0.00781, G_loss=11.5]\n"
          ]
        },
        {
          "output_type": "stream",
          "name": "stdout",
          "text": [
            "=> Saving checkpoint\n",
            "=> Saving checkpoint\n"
          ]
        },
        {
          "output_type": "stream",
          "name": "stderr",
          "text": [
            "Epoch [246/351]: 100%|██████████| 22/22 [00:25<00:00,  1.16s/it, D_loss=0.0123, G_loss=12.4]\n",
            "Epoch [247/351]: 100%|██████████| 22/22 [00:25<00:00,  1.15s/it, D_loss=0.941, G_loss=5.94]\n",
            "Epoch [248/351]: 100%|██████████| 22/22 [00:24<00:00,  1.10s/it, D_loss=0.726, G_loss=6.07]\n",
            "Epoch [249/351]: 100%|██████████| 22/22 [00:25<00:00,  1.14s/it, D_loss=0.707, G_loss=5.91]\n",
            "Epoch [250/351]: 100%|██████████| 22/22 [00:24<00:00,  1.11s/it, D_loss=0.693, G_loss=5.98]\n"
          ]
        },
        {
          "output_type": "stream",
          "name": "stdout",
          "text": [
            "=> Saving checkpoint\n",
            "=> Saving checkpoint\n"
          ]
        },
        {
          "output_type": "stream",
          "name": "stderr",
          "text": [
            "Epoch [251/351]: 100%|██████████| 22/22 [00:25<00:00,  1.17s/it, D_loss=0.709, G_loss=5.49]\n",
            "Epoch [252/351]: 100%|██████████| 22/22 [00:25<00:00,  1.14s/it, D_loss=0.391, G_loss=7.23]\n",
            "Epoch [253/351]: 100%|██████████| 22/22 [00:24<00:00,  1.11s/it, D_loss=0.091, G_loss=8.72]\n",
            "Epoch [254/351]: 100%|██████████| 22/22 [00:24<00:00,  1.10s/it, D_loss=0.0753, G_loss=9.25]\n",
            "Epoch [255/351]: 100%|██████████| 22/22 [00:24<00:00,  1.11s/it, D_loss=0.158, G_loss=8.83]\n"
          ]
        },
        {
          "output_type": "stream",
          "name": "stdout",
          "text": [
            "=> Saving checkpoint\n",
            "=> Saving checkpoint\n"
          ]
        },
        {
          "output_type": "stream",
          "name": "stderr",
          "text": [
            "Epoch [256/351]: 100%|██████████| 22/22 [00:25<00:00,  1.18s/it, D_loss=0.0244, G_loss=11]\n",
            "Epoch [257/351]: 100%|██████████| 22/22 [00:24<00:00,  1.11s/it, D_loss=0.0108, G_loss=10.6]\n",
            "Epoch [258/351]: 100%|██████████| 22/22 [00:24<00:00,  1.12s/it, D_loss=0.0132, G_loss=10.7]\n",
            "Epoch [259/351]: 100%|██████████| 22/22 [00:24<00:00,  1.10s/it, D_loss=0.00857, G_loss=11.4]\n",
            "Epoch [260/351]: 100%|██████████| 22/22 [00:25<00:00,  1.14s/it, D_loss=0.0149, G_loss=10.5]\n"
          ]
        },
        {
          "output_type": "stream",
          "name": "stdout",
          "text": [
            "=> Saving checkpoint\n",
            "=> Saving checkpoint\n"
          ]
        },
        {
          "output_type": "stream",
          "name": "stderr",
          "text": [
            "Epoch [261/351]: 100%|██████████| 22/22 [00:25<00:00,  1.17s/it, D_loss=0.0123, G_loss=10.4]\n",
            "Epoch [262/351]: 100%|██████████| 22/22 [00:24<00:00,  1.11s/it, D_loss=0.571, G_loss=6.85]\n",
            "Epoch [263/351]: 100%|██████████| 22/22 [00:25<00:00,  1.14s/it, D_loss=1.57, G_loss=6.33]\n",
            "Epoch [264/351]: 100%|██████████| 22/22 [00:24<00:00,  1.09s/it, D_loss=0.708, G_loss=5.54]\n",
            "Epoch [265/351]: 100%|██████████| 22/22 [00:25<00:00,  1.14s/it, D_loss=0.685, G_loss=5.88]\n"
          ]
        },
        {
          "output_type": "stream",
          "name": "stdout",
          "text": [
            "=> Saving checkpoint\n",
            "=> Saving checkpoint\n"
          ]
        },
        {
          "output_type": "stream",
          "name": "stderr",
          "text": [
            "Epoch [266/351]: 100%|██████████| 22/22 [00:26<00:00,  1.20s/it, D_loss=0.677, G_loss=5.3]\n",
            "Epoch [267/351]: 100%|██████████| 22/22 [00:24<00:00,  1.12s/it, D_loss=0.681, G_loss=6.02]\n",
            "Epoch [268/351]: 100%|██████████| 22/22 [00:24<00:00,  1.10s/it, D_loss=0.541, G_loss=6.6]\n",
            "Epoch [269/351]: 100%|██████████| 22/22 [00:24<00:00,  1.11s/it, D_loss=0.102, G_loss=8.29]\n",
            "Epoch [270/351]: 100%|██████████| 22/22 [00:23<00:00,  1.09s/it, D_loss=0.776, G_loss=7.16]\n"
          ]
        },
        {
          "output_type": "stream",
          "name": "stdout",
          "text": [
            "=> Saving checkpoint\n",
            "=> Saving checkpoint\n"
          ]
        },
        {
          "output_type": "stream",
          "name": "stderr",
          "text": [
            "Epoch [271/351]: 100%|██████████| 22/22 [00:25<00:00,  1.18s/it, D_loss=0.0904, G_loss=8.43]\n",
            "Epoch [272/351]: 100%|██████████| 22/22 [00:24<00:00,  1.13s/it, D_loss=0.0244, G_loss=9.15]\n",
            "Epoch [273/351]: 100%|██████████| 22/22 [00:23<00:00,  1.08s/it, D_loss=0.0172, G_loss=11.1]\n",
            "Epoch [274/351]: 100%|██████████| 22/22 [00:25<00:00,  1.14s/it, D_loss=0.0116, G_loss=10.8]\n",
            "Epoch [275/351]: 100%|██████████| 22/22 [00:24<00:00,  1.11s/it, D_loss=0.0118, G_loss=10.7]\n"
          ]
        },
        {
          "output_type": "stream",
          "name": "stdout",
          "text": [
            "=> Saving checkpoint\n",
            "=> Saving checkpoint\n"
          ]
        },
        {
          "output_type": "stream",
          "name": "stderr",
          "text": [
            "Epoch [276/351]: 100%|██████████| 22/22 [00:25<00:00,  1.16s/it, D_loss=0.0312, G_loss=10]\n",
            "Epoch [277/351]: 100%|██████████| 22/22 [00:25<00:00,  1.15s/it, D_loss=0.00808, G_loss=10.7]\n",
            "Epoch [278/351]: 100%|██████████| 22/22 [00:24<00:00,  1.09s/it, D_loss=0.00644, G_loss=11.3]\n",
            "Epoch [279/351]: 100%|██████████| 22/22 [00:24<00:00,  1.10s/it, D_loss=0.816, G_loss=7.59]\n",
            "Epoch [280/351]: 100%|██████████| 22/22 [00:24<00:00,  1.13s/it, D_loss=0.157, G_loss=9.36]\n"
          ]
        },
        {
          "output_type": "stream",
          "name": "stdout",
          "text": [
            "=> Saving checkpoint\n",
            "=> Saving checkpoint\n"
          ]
        },
        {
          "output_type": "stream",
          "name": "stderr",
          "text": [
            "Epoch [281/351]: 100%|██████████| 22/22 [00:25<00:00,  1.17s/it, D_loss=0.00692, G_loss=10.3]\n",
            "Epoch [282/351]: 100%|██████████| 22/22 [00:24<00:00,  1.11s/it, D_loss=0.0198, G_loss=11.4]\n",
            "Epoch [283/351]: 100%|██████████| 22/22 [00:24<00:00,  1.12s/it, D_loss=0.0132, G_loss=10.6]\n",
            "Epoch [284/351]: 100%|██████████| 22/22 [00:24<00:00,  1.09s/it, D_loss=0.0817, G_loss=10.1]\n",
            "Epoch [285/351]: 100%|██████████| 22/22 [00:24<00:00,  1.11s/it, D_loss=0.0313, G_loss=10.4]\n"
          ]
        },
        {
          "output_type": "stream",
          "name": "stdout",
          "text": [
            "=> Saving checkpoint\n",
            "=> Saving checkpoint\n"
          ]
        },
        {
          "output_type": "stream",
          "name": "stderr",
          "text": [
            "Epoch [286/351]: 100%|██████████| 22/22 [00:26<00:00,  1.18s/it, D_loss=0.00828, G_loss=11.4]\n",
            "Epoch [287/351]: 100%|██████████| 22/22 [00:24<00:00,  1.11s/it, D_loss=0.0058, G_loss=11]\n",
            "Epoch [288/351]: 100%|██████████| 22/22 [00:24<00:00,  1.11s/it, D_loss=0.00862, G_loss=11.1]\n",
            "Epoch [289/351]: 100%|██████████| 22/22 [00:24<00:00,  1.12s/it, D_loss=0.0147, G_loss=11.7]\n",
            "Epoch [290/351]: 100%|██████████| 22/22 [00:24<00:00,  1.10s/it, D_loss=0.0245, G_loss=10.9]\n"
          ]
        },
        {
          "output_type": "stream",
          "name": "stdout",
          "text": [
            "=> Saving checkpoint\n",
            "=> Saving checkpoint\n"
          ]
        },
        {
          "output_type": "stream",
          "name": "stderr",
          "text": [
            "Epoch [291/351]: 100%|██████████| 22/22 [00:25<00:00,  1.15s/it, D_loss=0.00485, G_loss=11.6]\n",
            "Epoch [292/351]: 100%|██████████| 22/22 [00:25<00:00,  1.14s/it, D_loss=0.115, G_loss=7.86]\n",
            "Epoch [293/351]: 100%|██████████| 22/22 [00:24<00:00,  1.10s/it, D_loss=0.663, G_loss=6.05]\n",
            "Epoch [294/351]: 100%|██████████| 22/22 [00:24<00:00,  1.10s/it, D_loss=0.468, G_loss=6.57]\n",
            "Epoch [295/351]: 100%|██████████| 22/22 [00:24<00:00,  1.13s/it, D_loss=0.15, G_loss=8.8]\n"
          ]
        },
        {
          "output_type": "stream",
          "name": "stdout",
          "text": [
            "=> Saving checkpoint\n",
            "=> Saving checkpoint\n"
          ]
        },
        {
          "output_type": "stream",
          "name": "stderr",
          "text": [
            "Epoch [296/351]: 100%|██████████| 22/22 [00:25<00:00,  1.18s/it, D_loss=0.131, G_loss=8.7]\n",
            "Epoch [297/351]: 100%|██████████| 22/22 [00:24<00:00,  1.11s/it, D_loss=0.00659, G_loss=10.7]\n",
            "Epoch [298/351]: 100%|██████████| 22/22 [00:24<00:00,  1.11s/it, D_loss=0.00794, G_loss=11.4]\n",
            "Epoch [299/351]: 100%|██████████| 22/22 [00:23<00:00,  1.09s/it, D_loss=0.00669, G_loss=10.8]\n",
            "Epoch [300/351]: 100%|██████████| 22/22 [00:25<00:00,  1.15s/it, D_loss=0.00694, G_loss=10.9]\n"
          ]
        },
        {
          "output_type": "stream",
          "name": "stdout",
          "text": [
            "=> Saving checkpoint\n",
            "=> Saving checkpoint\n"
          ]
        },
        {
          "output_type": "stream",
          "name": "stderr",
          "text": [
            "Epoch [301/351]: 100%|██████████| 22/22 [00:25<00:00,  1.15s/it, D_loss=0.0137, G_loss=10.6]\n",
            "Epoch [302/351]: 100%|██████████| 22/22 [00:24<00:00,  1.10s/it, D_loss=0.0034, G_loss=11.5]\n",
            "Epoch [303/351]: 100%|██████████| 22/22 [00:25<00:00,  1.14s/it, D_loss=0.00673, G_loss=11.3]\n",
            "Epoch [304/351]: 100%|██████████| 22/22 [00:24<00:00,  1.10s/it, D_loss=0.00641, G_loss=12.6]\n",
            "Epoch [305/351]: 100%|██████████| 22/22 [00:25<00:00,  1.14s/it, D_loss=0.00654, G_loss=11.3]\n"
          ]
        },
        {
          "output_type": "stream",
          "name": "stdout",
          "text": [
            "=> Saving checkpoint\n",
            "=> Saving checkpoint\n"
          ]
        },
        {
          "output_type": "stream",
          "name": "stderr",
          "text": [
            "Epoch [306/351]: 100%|██████████| 22/22 [00:25<00:00,  1.17s/it, D_loss=0.0039, G_loss=11.3]\n",
            "Epoch [307/351]: 100%|██████████| 22/22 [00:25<00:00,  1.15s/it, D_loss=0.00962, G_loss=10.6]\n",
            "Epoch [308/351]: 100%|██████████| 22/22 [00:24<00:00,  1.11s/it, D_loss=0.00494, G_loss=11.6]\n",
            "Epoch [309/351]: 100%|██████████| 22/22 [00:24<00:00,  1.09s/it, D_loss=0.00558, G_loss=12.1]\n",
            "Epoch [310/351]: 100%|██████████| 22/22 [00:24<00:00,  1.12s/it, D_loss=0.00716, G_loss=12.2]\n"
          ]
        },
        {
          "output_type": "stream",
          "name": "stdout",
          "text": [
            "=> Saving checkpoint\n",
            "=> Saving checkpoint\n"
          ]
        },
        {
          "output_type": "stream",
          "name": "stderr",
          "text": [
            "Epoch [311/351]: 100%|██████████| 22/22 [00:25<00:00,  1.18s/it, D_loss=0.00444, G_loss=11.9]\n",
            "Epoch [312/351]: 100%|██████████| 22/22 [00:24<00:00,  1.10s/it, D_loss=0.00417, G_loss=12.2]\n",
            "Epoch [313/351]: 100%|██████████| 22/22 [00:24<00:00,  1.11s/it, D_loss=0.771, G_loss=5.56]\n",
            "Epoch [314/351]: 100%|██████████| 22/22 [00:23<00:00,  1.09s/it, D_loss=0.639, G_loss=5.31]\n",
            "Epoch [315/351]: 100%|██████████| 22/22 [00:25<00:00,  1.14s/it, D_loss=0.553, G_loss=6.84]\n"
          ]
        },
        {
          "output_type": "stream",
          "name": "stdout",
          "text": [
            "=> Saving checkpoint\n",
            "=> Saving checkpoint\n"
          ]
        },
        {
          "output_type": "stream",
          "name": "stderr",
          "text": [
            "Epoch [316/351]: 100%|██████████| 22/22 [00:25<00:00,  1.16s/it, D_loss=0.66, G_loss=5.39]\n",
            "Epoch [317/351]: 100%|██████████| 22/22 [00:24<00:00,  1.11s/it, D_loss=0.217, G_loss=7.69]\n",
            "Epoch [318/351]: 100%|██████████| 22/22 [00:24<00:00,  1.12s/it, D_loss=0.181, G_loss=7.16]\n",
            "Epoch [319/351]: 100%|██████████| 22/22 [00:24<00:00,  1.10s/it, D_loss=0.299, G_loss=8.59]\n",
            "Epoch [320/351]: 100%|██████████| 22/22 [00:25<00:00,  1.15s/it, D_loss=0.684, G_loss=5.29]\n"
          ]
        },
        {
          "output_type": "stream",
          "name": "stdout",
          "text": [
            "=> Saving checkpoint\n",
            "=> Saving checkpoint\n"
          ]
        },
        {
          "output_type": "stream",
          "name": "stderr",
          "text": [
            "Epoch [321/351]: 100%|██████████| 22/22 [00:25<00:00,  1.17s/it, D_loss=0.625, G_loss=5.99]\n",
            "Epoch [322/351]: 100%|██████████| 22/22 [00:24<00:00,  1.11s/it, D_loss=1.38, G_loss=7.32]\n",
            "Epoch [323/351]: 100%|██████████| 22/22 [00:25<00:00,  1.14s/it, D_loss=0.714, G_loss=5.31]\n",
            "Epoch [324/351]: 100%|██████████| 22/22 [00:24<00:00,  1.11s/it, D_loss=0.691, G_loss=5.21]\n",
            "Epoch [325/351]: 100%|██████████| 22/22 [00:25<00:00,  1.15s/it, D_loss=0.673, G_loss=5.48]\n"
          ]
        },
        {
          "output_type": "stream",
          "name": "stdout",
          "text": [
            "=> Saving checkpoint\n",
            "=> Saving checkpoint\n"
          ]
        },
        {
          "output_type": "stream",
          "name": "stderr",
          "text": [
            "Epoch [326/351]: 100%|██████████| 22/22 [00:25<00:00,  1.17s/it, D_loss=0.639, G_loss=5.23]\n",
            "Epoch [327/351]: 100%|██████████| 22/22 [00:25<00:00,  1.16s/it, D_loss=0.605, G_loss=5.66]\n",
            "Epoch [328/351]: 100%|██████████| 22/22 [00:24<00:00,  1.11s/it, D_loss=0.586, G_loss=5.43]\n",
            "Epoch [329/351]: 100%|██████████| 22/22 [00:24<00:00,  1.13s/it, D_loss=0.0213, G_loss=10.7]\n",
            "Epoch [330/351]: 100%|██████████| 22/22 [00:24<00:00,  1.10s/it, D_loss=0.019, G_loss=9.33]\n"
          ]
        },
        {
          "output_type": "stream",
          "name": "stdout",
          "text": [
            "=> Saving checkpoint\n",
            "=> Saving checkpoint\n"
          ]
        },
        {
          "output_type": "stream",
          "name": "stderr",
          "text": [
            "Epoch [331/351]: 100%|██████████| 22/22 [00:26<00:00,  1.19s/it, D_loss=0.78, G_loss=8.47]\n",
            "Epoch [332/351]: 100%|██████████| 22/22 [00:24<00:00,  1.13s/it, D_loss=0.027, G_loss=9.85]\n",
            "Epoch [333/351]: 100%|██████████| 22/22 [00:25<00:00,  1.15s/it, D_loss=0.0396, G_loss=9.52]\n",
            "Epoch [334/351]: 100%|██████████| 22/22 [00:24<00:00,  1.10s/it, D_loss=0.0443, G_loss=9.22]\n",
            "Epoch [335/351]: 100%|██████████| 22/22 [00:24<00:00,  1.11s/it, D_loss=0.00905, G_loss=10.8]\n"
          ]
        },
        {
          "output_type": "stream",
          "name": "stdout",
          "text": [
            "=> Saving checkpoint\n",
            "=> Saving checkpoint\n"
          ]
        },
        {
          "output_type": "stream",
          "name": "stderr",
          "text": [
            "Epoch [336/351]: 100%|██████████| 22/22 [00:26<00:00,  1.19s/it, D_loss=0.0126, G_loss=11.4]\n",
            "Epoch [337/351]: 100%|██████████| 22/22 [00:24<00:00,  1.11s/it, D_loss=0.0121, G_loss=11.1]\n",
            "Epoch [338/351]: 100%|██████████| 22/22 [00:24<00:00,  1.10s/it, D_loss=0.0501, G_loss=9.35]\n",
            "Epoch [339/351]: 100%|██████████| 22/22 [00:24<00:00,  1.12s/it, D_loss=0.00801, G_loss=10.7]\n",
            "Epoch [340/351]: 100%|██████████| 22/22 [00:24<00:00,  1.10s/it, D_loss=0.00913, G_loss=11.1]\n"
          ]
        },
        {
          "output_type": "stream",
          "name": "stdout",
          "text": [
            "=> Saving checkpoint\n",
            "=> Saving checkpoint\n"
          ]
        },
        {
          "output_type": "stream",
          "name": "stderr",
          "text": [
            "Epoch [341/351]: 100%|██████████| 22/22 [00:25<00:00,  1.16s/it, D_loss=0.00662, G_loss=10.5]\n",
            "Epoch [342/351]: 100%|██████████| 22/22 [00:24<00:00,  1.13s/it, D_loss=0.00805, G_loss=11.1]\n",
            "Epoch [343/351]: 100%|██████████| 22/22 [00:24<00:00,  1.11s/it, D_loss=0.00463, G_loss=12]\n",
            "Epoch [344/351]: 100%|██████████| 22/22 [00:24<00:00,  1.09s/it, D_loss=0.00493, G_loss=11.4]\n",
            "Epoch [345/351]: 100%|██████████| 22/22 [00:25<00:00,  1.15s/it, D_loss=0.00508, G_loss=11.6]\n"
          ]
        },
        {
          "output_type": "stream",
          "name": "stdout",
          "text": [
            "=> Saving checkpoint\n",
            "=> Saving checkpoint\n"
          ]
        },
        {
          "output_type": "stream",
          "name": "stderr",
          "text": [
            "Epoch [346/351]: 100%|██████████| 22/22 [00:25<00:00,  1.17s/it, D_loss=0.00515, G_loss=11.4]\n",
            "Epoch [347/351]: 100%|██████████| 22/22 [00:27<00:00,  1.25s/it, D_loss=0.00418, G_loss=11.6]\n",
            "Epoch [348/351]: 100%|██████████| 22/22 [00:24<00:00,  1.10s/it, D_loss=0.00346, G_loss=11.6]\n",
            "Epoch [349/351]: 100%|██████████| 22/22 [00:24<00:00,  1.12s/it, D_loss=0.00853, G_loss=12.2]\n",
            "Epoch [350/351]: 100%|██████████| 22/22 [00:24<00:00,  1.10s/it, D_loss=0.00597, G_loss=11.4]\n"
          ]
        },
        {
          "output_type": "stream",
          "name": "stdout",
          "text": [
            "=> Saving checkpoint\n",
            "=> Saving checkpoint\n"
          ]
        }
      ],
      "source": [
        "disc = Discriminator(in_channels=3).to(config.DEVICE)\n",
        "gen = Generator(in_channels=3).to(config.DEVICE)\n",
        "opt_disc = optim.Adam(disc.parameters(), lr=config.LEARNING_RATE, betas=(0.5, 0.999))\n",
        "opt_gen = optim.Adam(gen.parameters(), lr=config.LEARNING_RATE, betas=(0.5, 0.999))\n",
        "BCE = nn.BCEWithLogitsLoss()\n",
        "L1_LOSS = nn.L1Loss()\n",
        "\n",
        "if config.LOAD_MODEL:\n",
        "    load_checkpoint(config.CHECKPOINT_GEN, gen, opt_gen, config.LEARNING_RATE)\n",
        "    load_checkpoint(config.CHECKPOINT_DISC, disc, opt_disc, config.LEARNING_RATE)\n",
        "\n",
        "train_dataset = MapDataset(real_images_dir='/content/train/real', sketches_dir = '/content/train/sketches')\n",
        "train_loader = DataLoader(train_dataset, batch_size=config.BATCH_SIZE, shuffle=True, num_workers=config.NUM_WORKERS)\n",
        "g_scaler = torch.cuda.amp.GradScaler()\n",
        "d_scaler = torch.cuda.amp.GradScaler()\n",
        "\n",
        "val_dataset = MapDataset(real_images_dir='/content/val/real', sketches_dir = '/content/val/sketches')\n",
        "val_loader = DataLoader(val_dataset, batch_size=1, shuffle=True)\n",
        "\n",
        "discriminator_loss = []\n",
        "generator_loss = []\n",
        "for epoch in range(351):\n",
        "    disc_epoch_loss, gen_epoch_loss = train_fn(disc, gen, train_loader, opt_disc, opt_gen, L1_LOSS, BCE, g_scaler, d_scaler)\n",
        "    discriminator_loss.append(disc_epoch_loss)\n",
        "    generator_loss.append(gen_epoch_loss)\n",
        "\n",
        "    if epoch % 5 == 0:\n",
        "        save_some_examples(gen, val_loader, epoch, folder='/content/drive/MyDrive/Pix2Pix_Buildings/evaluation')\n",
        "        save_checkpoint(gen, opt_gen, filename=config.CHECKPOINT_GEN)\n",
        "        save_checkpoint(disc, opt_disc, filename=config.CHECKPOINT_DISC)"
      ]
    },
    {
      "cell_type": "code",
      "source": [
        "print((discriminator_loss[0]))"
      ],
      "metadata": {
        "colab": {
          "base_uri": "https://localhost:8080/"
        },
        "id": "ZyjbgbMHI-L-",
        "outputId": "343d1063-8d5d-45d2-aded-89a8fb9e64bf"
      },
      "execution_count": 9,
      "outputs": [
        {
          "output_type": "stream",
          "name": "stdout",
          "text": [
            "tensor(0.7162, device='cuda:0', grad_fn=<DivBackward0>)\n"
          ]
        }
      ]
    },
    {
      "cell_type": "code",
      "source": [
        "import matplotlib.pyplot as plt\n",
        "\n",
        "# Convert tensors to floats before plotting\n",
        "discriminator_loss_floats = [loss.item() for loss in discriminator_loss]\n",
        "generator_loss_floats = [loss.item() for loss in generator_loss]\n",
        "\n",
        "# Plotting the discriminator and generator losses\n",
        "plt.figure(figsize=(10, 5))\n",
        "plt.plot(discriminator_loss_floats, label=\"Discriminator Loss\")\n",
        "plt.plot(generator_loss_floats, label=\"Generator Loss\")\n",
        "plt.xlabel(\"Epochs\")\n",
        "plt.ylabel(\"Loss\")\n",
        "plt.title(\"Discriminator and Generator Loss During Training\")\n",
        "plt.legend()\n",
        "plt.show()\n"
      ],
      "metadata": {
        "colab": {
          "base_uri": "https://localhost:8080/",
          "height": 487
        },
        "id": "TorUXGFBIZn7",
        "outputId": "16fc374a-1bbc-40bf-a7a6-ef81d36586d0"
      },
      "execution_count": 10,
      "outputs": [
        {
          "output_type": "display_data",
          "data": {
            "text/plain": [
              "<Figure size 1000x500 with 1 Axes>"
            ],
            "image/png": "[encoded data removed]"
          },
          "metadata": {}
        }
      ]
    },
    {
      "cell_type": "code",
      "source": [
        "import pickle\n",
        "\n",
        "# Save the discriminator and generator losses to a file\n",
        "with open('/content/drive/MyDrive/Pix2Pix_Buildings/Model/losses.pkl', 'wb') as f:\n",
        "    pickle.dump({'discriminator_loss': discriminator_loss_floats, 'generator_loss': generator_loss_floats}, f)\n"
      ],
      "metadata": {
        "id": "guQd6ia5Jjnl"
      },
      "execution_count": 13,
      "outputs": []
    },
    {
      "cell_type": "code",
      "execution_count": null,
      "metadata": {
        "id": "FJcqYUz7R3-T"
      },
      "outputs": [],
      "source": [
        "from google.colab import files\n",
        "\n",
        "# Name of the folder to download\n",
        "folder_to_download = 'evaluation'\n",
        "\n",
        "# Zip the folder\n",
        "!zip -r results.zip {folder_to_download}\n",
        "\n",
        "# Download the zipped folder\n",
        "files.download('results.zip')"
      ]
    }
  ],
  "metadata": {
    "accelerator": "GPU",
    "colab": {
      "gpuType": "T4",
      "provenance": []
    },
    "kernelspec": {
      "display_name": "Python 3",
      "name": "python3"
    },
    "language_info": {
      "name": "python"
    }
  },
  "nbformat": 4,
  "nbformat_minor": 0
}